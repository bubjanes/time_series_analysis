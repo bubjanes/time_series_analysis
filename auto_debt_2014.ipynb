{
 "cells": [
  {
   "cell_type": "code",
   "execution_count": 2,
   "metadata": {},
   "outputs": [],
   "source": [
    "import csv\n",
    "import pandas as pd"
   ]
  },
  {
   "cell_type": "code",
   "execution_count": 3,
   "metadata": {
    "scrolled": true
   },
   "outputs": [],
   "source": [
    "df = pd.read_csv('auto_debt.csv', sep=',', \n",
    "    encoding='utf-8')\n",
    "origien = df.MCC_TIPO_ORIGEN\n",
    "fecha_pago = df.FECHA_PAGO\n",
    "importe = df.MCC_IMPORTE\n",
    "cust_id = df.OBN_OBJETO_ID"
   ]
  },
  {
   "cell_type": "code",
   "execution_count": 4,
   "metadata": {
    "scrolled": true
   },
   "outputs": [
    {
     "data": {
      "text/html": [
       "<div>\n",
       "<style scoped>\n",
       "    .dataframe tbody tr th:only-of-type {\n",
       "        vertical-align: middle;\n",
       "    }\n",
       "\n",
       "    .dataframe tbody tr th {\n",
       "        vertical-align: top;\n",
       "    }\n",
       "\n",
       "    .dataframe thead th {\n",
       "        text-align: right;\n",
       "    }\n",
       "</style>\n",
       "<table border=\"1\" class=\"dataframe\">\n",
       "  <thead>\n",
       "    <tr style=\"text-align: right;\">\n",
       "      <th></th>\n",
       "      <th>FECHA_PAGO</th>\n",
       "      <th>MCC_IMPORTE</th>\n",
       "      <th>MCC_TIPO_ORIGEN</th>\n",
       "      <th>OBN_OBJETO_ID</th>\n",
       "    </tr>\n",
       "  </thead>\n",
       "  <tbody>\n",
       "    <tr>\n",
       "      <th>0</th>\n",
       "      <td>01/01/1900</td>\n",
       "      <td>21.00</td>\n",
       "      <td>SEL</td>\n",
       "      <td>2789528.0</td>\n",
       "    </tr>\n",
       "    <tr>\n",
       "      <th>1</th>\n",
       "      <td>11/04/2014</td>\n",
       "      <td>0.02</td>\n",
       "      <td>PAO</td>\n",
       "      <td>8280920.0</td>\n",
       "    </tr>\n",
       "    <tr>\n",
       "      <th>2</th>\n",
       "      <td>12/11/2015</td>\n",
       "      <td>66.31</td>\n",
       "      <td>PAO</td>\n",
       "      <td>4928087.0</td>\n",
       "    </tr>\n",
       "    <tr>\n",
       "      <th>3</th>\n",
       "      <td>24/06/2014</td>\n",
       "      <td>19.02</td>\n",
       "      <td>MAJ</td>\n",
       "      <td>8505200.0</td>\n",
       "    </tr>\n",
       "    <tr>\n",
       "      <th>4</th>\n",
       "      <td>01/01/1900</td>\n",
       "      <td>21.84</td>\n",
       "      <td>NULO</td>\n",
       "      <td>7029754.0</td>\n",
       "    </tr>\n",
       "  </tbody>\n",
       "</table>\n",
       "</div>"
      ],
      "text/plain": [
       "   FECHA_PAGO  MCC_IMPORTE MCC_TIPO_ORIGEN  OBN_OBJETO_ID\n",
       "0  01/01/1900        21.00             SEL      2789528.0\n",
       "1  11/04/2014         0.02             PAO      8280920.0\n",
       "2  12/11/2015        66.31             PAO      4928087.0\n",
       "3  24/06/2014        19.02             MAJ      8505200.0\n",
       "4  01/01/1900        21.84            NULO      7029754.0"
      ]
     },
     "execution_count": 4,
     "metadata": {},
     "output_type": "execute_result"
    }
   ],
   "source": [
    "# simplify: make dataframe picking a few columns that are interesting to us\n",
    "my_df = pd.DataFrame({'OBN_OBJETO_ID' : cust_id, \n",
    "                  'MCC_TIPO_ORIGEN' : origien,\n",
    "                 'MCC_IMPORTE' : importe,\n",
    "                   'FECHA_PAGO' : fecha_pago})\n",
    "my_df.head()"
   ]
  },
  {
   "cell_type": "code",
   "execution_count": 5,
   "metadata": {},
   "outputs": [],
   "source": [
    "# convert the dtype to datetime format, so that we can manipulate it \n",
    "my_df['FECHA_PAGO'] = pd.to_datetime(df.FECHA_PAGO, dayfirst=True)"
   ]
  },
  {
   "cell_type": "code",
   "execution_count": 6,
   "metadata": {},
   "outputs": [
    {
     "data": {
      "text/html": [
       "<div>\n",
       "<style scoped>\n",
       "    .dataframe tbody tr th:only-of-type {\n",
       "        vertical-align: middle;\n",
       "    }\n",
       "\n",
       "    .dataframe tbody tr th {\n",
       "        vertical-align: top;\n",
       "    }\n",
       "\n",
       "    .dataframe thead th {\n",
       "        text-align: right;\n",
       "    }\n",
       "</style>\n",
       "<table border=\"1\" class=\"dataframe\">\n",
       "  <thead>\n",
       "    <tr style=\"text-align: right;\">\n",
       "      <th></th>\n",
       "      <th>FECHA_PAGO</th>\n",
       "      <th>MCC_IMPORTE</th>\n",
       "      <th>MCC_TIPO_ORIGEN</th>\n",
       "      <th>OBN_OBJETO_ID</th>\n",
       "    </tr>\n",
       "  </thead>\n",
       "  <tbody>\n",
       "    <tr>\n",
       "      <th>0</th>\n",
       "      <td>1900-01-01</td>\n",
       "      <td>21.00</td>\n",
       "      <td>SEL</td>\n",
       "      <td>2789528.0</td>\n",
       "    </tr>\n",
       "    <tr>\n",
       "      <th>1</th>\n",
       "      <td>2014-04-11</td>\n",
       "      <td>0.02</td>\n",
       "      <td>PAO</td>\n",
       "      <td>8280920.0</td>\n",
       "    </tr>\n",
       "    <tr>\n",
       "      <th>2</th>\n",
       "      <td>2015-11-12</td>\n",
       "      <td>66.31</td>\n",
       "      <td>PAO</td>\n",
       "      <td>4928087.0</td>\n",
       "    </tr>\n",
       "    <tr>\n",
       "      <th>3</th>\n",
       "      <td>2014-06-24</td>\n",
       "      <td>19.02</td>\n",
       "      <td>MAJ</td>\n",
       "      <td>8505200.0</td>\n",
       "    </tr>\n",
       "    <tr>\n",
       "      <th>4</th>\n",
       "      <td>1900-01-01</td>\n",
       "      <td>21.84</td>\n",
       "      <td>NULO</td>\n",
       "      <td>7029754.0</td>\n",
       "    </tr>\n",
       "  </tbody>\n",
       "</table>\n",
       "</div>"
      ],
      "text/plain": [
       "  FECHA_PAGO  MCC_IMPORTE MCC_TIPO_ORIGEN  OBN_OBJETO_ID\n",
       "0 1900-01-01        21.00             SEL      2789528.0\n",
       "1 2014-04-11         0.02             PAO      8280920.0\n",
       "2 2015-11-12        66.31             PAO      4928087.0\n",
       "3 2014-06-24        19.02             MAJ      8505200.0\n",
       "4 1900-01-01        21.84            NULO      7029754.0"
      ]
     },
     "execution_count": 6,
     "metadata": {},
     "output_type": "execute_result"
    }
   ],
   "source": [
    "my_df.head()"
   ]
  },
  {
   "cell_type": "code",
   "execution_count": 7,
   "metadata": {},
   "outputs": [
    {
     "data": {
      "text/html": [
       "<div>\n",
       "<style scoped>\n",
       "    .dataframe tbody tr th:only-of-type {\n",
       "        vertical-align: middle;\n",
       "    }\n",
       "\n",
       "    .dataframe tbody tr th {\n",
       "        vertical-align: top;\n",
       "    }\n",
       "\n",
       "    .dataframe thead th {\n",
       "        text-align: right;\n",
       "    }\n",
       "</style>\n",
       "<table border=\"1\" class=\"dataframe\">\n",
       "  <thead>\n",
       "    <tr style=\"text-align: right;\">\n",
       "      <th></th>\n",
       "      <th>FECHA_PAGO</th>\n",
       "      <th>MCC_IMPORTE</th>\n",
       "      <th>MCC_TIPO_ORIGEN</th>\n",
       "      <th>OBN_OBJETO_ID</th>\n",
       "      <th>Month</th>\n",
       "      <th>Year</th>\n",
       "    </tr>\n",
       "  </thead>\n",
       "  <tbody>\n",
       "    <tr>\n",
       "      <th>0</th>\n",
       "      <td>1900-01-01</td>\n",
       "      <td>21.00</td>\n",
       "      <td>SEL</td>\n",
       "      <td>2789528.0</td>\n",
       "      <td>1.0</td>\n",
       "      <td>1900.0</td>\n",
       "    </tr>\n",
       "    <tr>\n",
       "      <th>1</th>\n",
       "      <td>2014-04-11</td>\n",
       "      <td>0.02</td>\n",
       "      <td>PAO</td>\n",
       "      <td>8280920.0</td>\n",
       "      <td>4.0</td>\n",
       "      <td>2014.0</td>\n",
       "    </tr>\n",
       "    <tr>\n",
       "      <th>2</th>\n",
       "      <td>2015-11-12</td>\n",
       "      <td>66.31</td>\n",
       "      <td>PAO</td>\n",
       "      <td>4928087.0</td>\n",
       "      <td>11.0</td>\n",
       "      <td>2015.0</td>\n",
       "    </tr>\n",
       "    <tr>\n",
       "      <th>3</th>\n",
       "      <td>2014-06-24</td>\n",
       "      <td>19.02</td>\n",
       "      <td>MAJ</td>\n",
       "      <td>8505200.0</td>\n",
       "      <td>6.0</td>\n",
       "      <td>2014.0</td>\n",
       "    </tr>\n",
       "    <tr>\n",
       "      <th>4</th>\n",
       "      <td>1900-01-01</td>\n",
       "      <td>21.84</td>\n",
       "      <td>NULO</td>\n",
       "      <td>7029754.0</td>\n",
       "      <td>1.0</td>\n",
       "      <td>1900.0</td>\n",
       "    </tr>\n",
       "  </tbody>\n",
       "</table>\n",
       "</div>"
      ],
      "text/plain": [
       "  FECHA_PAGO  MCC_IMPORTE MCC_TIPO_ORIGEN  OBN_OBJETO_ID Month    Year\n",
       "0 1900-01-01        21.00             SEL      2789528.0   1.0  1900.0\n",
       "1 2014-04-11         0.02             PAO      8280920.0   4.0  2014.0\n",
       "2 2015-11-12        66.31             PAO      4928087.0  11.0  2015.0\n",
       "3 2014-06-24        19.02             MAJ      8505200.0   6.0  2014.0\n",
       "4 1900-01-01        21.84            NULO      7029754.0   1.0  1900.0"
      ]
     },
     "execution_count": 7,
     "metadata": {},
     "output_type": "execute_result"
    }
   ],
   "source": [
    "# add a new columns called month, year (as strings)\n",
    "my_df['Month'] = my_df.FECHA_PAGO.dt.month.astype(str)\n",
    "my_df['Year'] = my_df.FECHA_PAGO.dt.year.astype(str)\n",
    "my_df.head()"
   ]
  },
  {
   "cell_type": "code",
   "execution_count": 8,
   "metadata": {},
   "outputs": [
    {
     "data": {
      "text/plain": [
       "<pandas.core.groupby.generic.DataFrameGroupBy object at 0x10eeb3d10>"
      ]
     },
     "execution_count": 8,
     "metadata": {},
     "output_type": "execute_result"
    }
   ],
   "source": [
    "# Group by year\n",
    "g = my_df.groupby('Year')\n",
    "g"
   ]
  },
  {
   "cell_type": "code",
   "execution_count": 9,
   "metadata": {
    "scrolled": true
   },
   "outputs": [
    {
     "data": {
      "text/html": [
       "<div>\n",
       "<style scoped>\n",
       "    .dataframe tbody tr th:only-of-type {\n",
       "        vertical-align: middle;\n",
       "    }\n",
       "\n",
       "    .dataframe tbody tr th {\n",
       "        vertical-align: top;\n",
       "    }\n",
       "\n",
       "    .dataframe thead th {\n",
       "        text-align: right;\n",
       "    }\n",
       "</style>\n",
       "<table border=\"1\" class=\"dataframe\">\n",
       "  <thead>\n",
       "    <tr style=\"text-align: right;\">\n",
       "      <th></th>\n",
       "      <th>FECHA_PAGO</th>\n",
       "      <th>MCC_IMPORTE</th>\n",
       "      <th>MCC_TIPO_ORIGEN</th>\n",
       "      <th>OBN_OBJETO_ID</th>\n",
       "      <th>Month</th>\n",
       "      <th>Year</th>\n",
       "    </tr>\n",
       "  </thead>\n",
       "  <tbody>\n",
       "    <tr>\n",
       "      <th>1</th>\n",
       "      <td>2014-04-11</td>\n",
       "      <td>0.02</td>\n",
       "      <td>PAO</td>\n",
       "      <td>8280920.0</td>\n",
       "      <td>4.0</td>\n",
       "      <td>2014.0</td>\n",
       "    </tr>\n",
       "    <tr>\n",
       "      <th>3</th>\n",
       "      <td>2014-06-24</td>\n",
       "      <td>19.02</td>\n",
       "      <td>MAJ</td>\n",
       "      <td>8505200.0</td>\n",
       "      <td>6.0</td>\n",
       "      <td>2014.0</td>\n",
       "    </tr>\n",
       "    <tr>\n",
       "      <th>6</th>\n",
       "      <td>2014-04-11</td>\n",
       "      <td>1989.72</td>\n",
       "      <td>NULO</td>\n",
       "      <td>8280920.0</td>\n",
       "      <td>4.0</td>\n",
       "      <td>2014.0</td>\n",
       "    </tr>\n",
       "    <tr>\n",
       "      <th>7</th>\n",
       "      <td>2014-01-17</td>\n",
       "      <td>35.24</td>\n",
       "      <td>NULO</td>\n",
       "      <td>8424899.0</td>\n",
       "      <td>1.0</td>\n",
       "      <td>2014.0</td>\n",
       "    </tr>\n",
       "    <tr>\n",
       "      <th>9</th>\n",
       "      <td>2014-09-05</td>\n",
       "      <td>378.00</td>\n",
       "      <td>NULO</td>\n",
       "      <td>7778202.0</td>\n",
       "      <td>9.0</td>\n",
       "      <td>2014.0</td>\n",
       "    </tr>\n",
       "  </tbody>\n",
       "</table>\n",
       "</div>"
      ],
      "text/plain": [
       "  FECHA_PAGO  MCC_IMPORTE MCC_TIPO_ORIGEN  OBN_OBJETO_ID Month    Year\n",
       "1 2014-04-11         0.02             PAO      8280920.0   4.0  2014.0\n",
       "3 2014-06-24        19.02             MAJ      8505200.0   6.0  2014.0\n",
       "6 2014-04-11      1989.72            NULO      8280920.0   4.0  2014.0\n",
       "7 2014-01-17        35.24            NULO      8424899.0   1.0  2014.0\n",
       "9 2014-09-05       378.00            NULO      7778202.0   9.0  2014.0"
      ]
     },
     "execution_count": 9,
     "metadata": {},
     "output_type": "execute_result"
    }
   ],
   "source": [
    "# Make a special group for 2014\n",
    "group_2014 = g.get_group('2014.0')\n",
    "group_2014.head()"
   ]
  },
  {
   "cell_type": "code",
   "execution_count": 10,
   "metadata": {},
   "outputs": [
    {
     "data": {
      "text/plain": [
       "5.0     212\n",
       "9.0      48\n",
       "4.0      36\n",
       "10.0     26\n",
       "11.0     26\n",
       "12.0     21\n",
       "1.0      16\n",
       "8.0      13\n",
       "7.0      12\n",
       "3.0       9\n",
       "6.0       6\n",
       "Name: Month, dtype: int64"
      ]
     },
     "execution_count": 10,
     "metadata": {},
     "output_type": "execute_result"
    }
   ],
   "source": [
    "group_2014.Month.value_counts()"
   ]
  },
  {
   "cell_type": "code",
   "execution_count": 11,
   "metadata": {},
   "outputs": [
    {
     "data": {
      "text/plain": [
       "<pandas.core.groupby.generic.DataFrameGroupBy object at 0x10eecb290>"
      ]
     },
     "execution_count": 11,
     "metadata": {},
     "output_type": "execute_result"
    }
   ],
   "source": [
    "# not a sub group: within group 2014, group by month\n",
    "month = group_2014.groupby('Month')\n",
    "month"
   ]
  },
  {
   "cell_type": "code",
   "execution_count": 12,
   "metadata": {},
   "outputs": [
    {
     "data": {
      "text/plain": [
       "Month\n",
       "1.0      9098.31\n",
       "10.0     2438.02\n",
       "11.0     4354.94\n",
       "12.0     1159.96\n",
       "3.0      1061.18\n",
       "4.0     12542.16\n",
       "5.0     70525.78\n",
       "6.0      1349.56\n",
       "7.0       119.48\n",
       "8.0      2198.56\n",
       "9.0     10129.26\n",
       "Name: MCC_IMPORTE, dtype: float64"
      ]
     },
     "execution_count": 12,
     "metadata": {},
     "output_type": "execute_result"
    }
   ],
   "source": [
    "# Here are the sums for each month in 2014\n",
    "month.MCC_IMPORTE.sum()"
   ]
  }
 ],
 "metadata": {
  "kernelspec": {
   "display_name": "Python 2",
   "language": "python",
   "name": "python2"
  },
  "language_info": {
   "codemirror_mode": {
    "name": "ipython",
    "version": 2
   },
   "file_extension": ".py",
   "mimetype": "text/x-python",
   "name": "python",
   "nbconvert_exporter": "python",
   "pygments_lexer": "ipython2",
   "version": "2.7.16"
  }
 },
 "nbformat": 4,
 "nbformat_minor": 2
}
