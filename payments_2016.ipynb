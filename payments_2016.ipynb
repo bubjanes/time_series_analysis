{
 "cells": [
  {
   "cell_type": "markdown",
   "metadata": {},
   "source": [
    "# Payments 2016"
   ]
  },
  {
   "cell_type": "code",
   "execution_count": 1,
   "metadata": {},
   "outputs": [],
   "source": [
    "import csv\n",
    "import pandas as pd\n",
    "import matplotlib.pyplot as plt\n",
    "%matplotlib inline"
   ]
  },
  {
   "cell_type": "code",
   "execution_count": 2,
   "metadata": {},
   "outputs": [],
   "source": [
    "plt.rcParams['figure.figsize'] = [15, 10]"
   ]
  },
  {
   "cell_type": "code",
   "execution_count": 3,
   "metadata": {
    "scrolled": true
   },
   "outputs": [
    {
     "data": {
      "text/html": [
       "<div>\n",
       "<style scoped>\n",
       "    .dataframe tbody tr th:only-of-type {\n",
       "        vertical-align: middle;\n",
       "    }\n",
       "\n",
       "    .dataframe tbody tr th {\n",
       "        vertical-align: top;\n",
       "    }\n",
       "\n",
       "    .dataframe thead th {\n",
       "        text-align: right;\n",
       "    }\n",
       "</style>\n",
       "<table border=\"1\" class=\"dataframe\">\n",
       "  <thead>\n",
       "    <tr style=\"text-align: right;\">\n",
       "      <th></th>\n",
       "      <th>MCC_OBN_ID</th>\n",
       "      <th>MCC_TIPO_MOVIMIENTO</th>\n",
       "      <th>MCC_IMPORTE</th>\n",
       "      <th>MCC_FECHA_BAJA</th>\n",
       "      <th>MCC_TIPO_ORIGEN</th>\n",
       "      <th>MCC_CCC_ID</th>\n",
       "      <th>MCC_FECHA_MOVIMIENTO</th>\n",
       "      <th>OBN_PERIODO</th>\n",
       "      <th>OBN_CUOTA</th>\n",
       "      <th>OBN_TIPO_OBJETO_ID</th>\n",
       "      <th>...</th>\n",
       "      <th>Unnamed: 56</th>\n",
       "      <th>Unnamed: 57</th>\n",
       "      <th>Unnamed: 58</th>\n",
       "      <th>Unnamed: 59</th>\n",
       "      <th>Unnamed: 60</th>\n",
       "      <th>Unnamed: 61</th>\n",
       "      <th>Unnamed: 62</th>\n",
       "      <th>Unnamed: 63</th>\n",
       "      <th>Unnamed: 64</th>\n",
       "      <th>Unnamed: 65</th>\n",
       "    </tr>\n",
       "    <tr>\n",
       "      <th>FECHA_PAGO</th>\n",
       "      <th></th>\n",
       "      <th></th>\n",
       "      <th></th>\n",
       "      <th></th>\n",
       "      <th></th>\n",
       "      <th></th>\n",
       "      <th></th>\n",
       "      <th></th>\n",
       "      <th></th>\n",
       "      <th></th>\n",
       "      <th></th>\n",
       "      <th></th>\n",
       "      <th></th>\n",
       "      <th></th>\n",
       "      <th></th>\n",
       "      <th></th>\n",
       "      <th></th>\n",
       "      <th></th>\n",
       "      <th></th>\n",
       "      <th></th>\n",
       "      <th></th>\n",
       "    </tr>\n",
       "  </thead>\n",
       "  <tbody>\n",
       "    <tr>\n",
       "      <th>1900-01-01</th>\n",
       "      <td>20130000000017031068</td>\n",
       "      <td>C</td>\n",
       "      <td>21.00</td>\n",
       "      <td>01/01/1900</td>\n",
       "      <td>SEL</td>\n",
       "      <td>010</td>\n",
       "      <td>17/09/2014</td>\n",
       "      <td>2014.0</td>\n",
       "      <td>20.0</td>\n",
       "      <td>A</td>\n",
       "      <td>...</td>\n",
       "      <td>NaN</td>\n",
       "      <td>NaN</td>\n",
       "      <td>NaN</td>\n",
       "      <td>NaN</td>\n",
       "      <td>NaN</td>\n",
       "      <td>NaN</td>\n",
       "      <td>NaN</td>\n",
       "      <td>NaN</td>\n",
       "      <td>NaN</td>\n",
       "      <td>NaN</td>\n",
       "    </tr>\n",
       "    <tr>\n",
       "      <th>2014-04-11</th>\n",
       "      <td>20130000000017880233</td>\n",
       "      <td>D</td>\n",
       "      <td>0.02</td>\n",
       "      <td>01/01/1900</td>\n",
       "      <td>PAO</td>\n",
       "      <td>030</td>\n",
       "      <td>11/04/2014</td>\n",
       "      <td>2014.0</td>\n",
       "      <td>10.0</td>\n",
       "      <td>A</td>\n",
       "      <td>...</td>\n",
       "      <td>NaN</td>\n",
       "      <td>NaN</td>\n",
       "      <td>NaN</td>\n",
       "      <td>NaN</td>\n",
       "      <td>NaN</td>\n",
       "      <td>NaN</td>\n",
       "      <td>NaN</td>\n",
       "      <td>NaN</td>\n",
       "      <td>NaN</td>\n",
       "      <td>NaN</td>\n",
       "    </tr>\n",
       "    <tr>\n",
       "      <th>2015-11-12</th>\n",
       "      <td>20130000000017262878</td>\n",
       "      <td>D</td>\n",
       "      <td>66.31</td>\n",
       "      <td>01/01/1900</td>\n",
       "      <td>PAO</td>\n",
       "      <td>130</td>\n",
       "      <td>12/11/2015</td>\n",
       "      <td>2014.0</td>\n",
       "      <td>20.0</td>\n",
       "      <td>A</td>\n",
       "      <td>...</td>\n",
       "      <td>NaN</td>\n",
       "      <td>NaN</td>\n",
       "      <td>NaN</td>\n",
       "      <td>NaN</td>\n",
       "      <td>NaN</td>\n",
       "      <td>NaN</td>\n",
       "      <td>NaN</td>\n",
       "      <td>NaN</td>\n",
       "      <td>NaN</td>\n",
       "      <td>NaN</td>\n",
       "    </tr>\n",
       "    <tr>\n",
       "      <th>2014-06-24</th>\n",
       "      <td>20130000000021722038</td>\n",
       "      <td>C</td>\n",
       "      <td>19.02</td>\n",
       "      <td>01/01/1900</td>\n",
       "      <td>MAJ</td>\n",
       "      <td>507</td>\n",
       "      <td>17/09/2014</td>\n",
       "      <td>2014.0</td>\n",
       "      <td>20.0</td>\n",
       "      <td>A</td>\n",
       "      <td>...</td>\n",
       "      <td>NaN</td>\n",
       "      <td>NaN</td>\n",
       "      <td>NaN</td>\n",
       "      <td>NaN</td>\n",
       "      <td>NaN</td>\n",
       "      <td>NaN</td>\n",
       "      <td>NaN</td>\n",
       "      <td>NaN</td>\n",
       "      <td>NaN</td>\n",
       "      <td>NaN</td>\n",
       "    </tr>\n",
       "    <tr>\n",
       "      <th>1900-01-01</th>\n",
       "      <td>20130000000016110860</td>\n",
       "      <td>D</td>\n",
       "      <td>21.84</td>\n",
       "      <td>01/01/1900</td>\n",
       "      <td>NULO</td>\n",
       "      <td>600</td>\n",
       "      <td>14/05/2014</td>\n",
       "      <td>2014.0</td>\n",
       "      <td>0.0</td>\n",
       "      <td>A</td>\n",
       "      <td>...</td>\n",
       "      <td>NaN</td>\n",
       "      <td>NaN</td>\n",
       "      <td>NaN</td>\n",
       "      <td>NaN</td>\n",
       "      <td>NaN</td>\n",
       "      <td>NaN</td>\n",
       "      <td>NaN</td>\n",
       "      <td>NaN</td>\n",
       "      <td>NaN</td>\n",
       "      <td>NaN</td>\n",
       "    </tr>\n",
       "  </tbody>\n",
       "</table>\n",
       "<p>5 rows × 65 columns</p>\n",
       "</div>"
      ],
      "text/plain": [
       "                      MCC_OBN_ID MCC_TIPO_MOVIMIENTO  MCC_IMPORTE  \\\n",
       "FECHA_PAGO                                                          \n",
       "1900-01-01  20130000000017031068                   C        21.00   \n",
       "2014-04-11  20130000000017880233                   D         0.02   \n",
       "2015-11-12  20130000000017262878                   D        66.31   \n",
       "2014-06-24  20130000000021722038                   C        19.02   \n",
       "1900-01-01  20130000000016110860                   D        21.84   \n",
       "\n",
       "           MCC_FECHA_BAJA MCC_TIPO_ORIGEN MCC_CCC_ID MCC_FECHA_MOVIMIENTO  \\\n",
       "FECHA_PAGO                                                                  \n",
       "1900-01-01     01/01/1900             SEL        010           17/09/2014   \n",
       "2014-04-11     01/01/1900             PAO        030           11/04/2014   \n",
       "2015-11-12     01/01/1900             PAO        130           12/11/2015   \n",
       "2014-06-24     01/01/1900             MAJ        507           17/09/2014   \n",
       "1900-01-01     01/01/1900            NULO        600           14/05/2014   \n",
       "\n",
       "            OBN_PERIODO  OBN_CUOTA OBN_TIPO_OBJETO_ID  ...  Unnamed: 56  \\\n",
       "FECHA_PAGO                                             ...                \n",
       "1900-01-01       2014.0       20.0                  A  ...          NaN   \n",
       "2014-04-11       2014.0       10.0                  A  ...          NaN   \n",
       "2015-11-12       2014.0       20.0                  A  ...          NaN   \n",
       "2014-06-24       2014.0       20.0                  A  ...          NaN   \n",
       "1900-01-01       2014.0        0.0                  A  ...          NaN   \n",
       "\n",
       "           Unnamed: 57 Unnamed: 58  Unnamed: 59  Unnamed: 60  Unnamed: 61  \\\n",
       "FECHA_PAGO                                                                  \n",
       "1900-01-01         NaN         NaN          NaN          NaN          NaN   \n",
       "2014-04-11         NaN         NaN          NaN          NaN          NaN   \n",
       "2015-11-12         NaN         NaN          NaN          NaN          NaN   \n",
       "2014-06-24         NaN         NaN          NaN          NaN          NaN   \n",
       "1900-01-01         NaN         NaN          NaN          NaN          NaN   \n",
       "\n",
       "            Unnamed: 62  Unnamed: 63  Unnamed: 64  Unnamed: 65  \n",
       "FECHA_PAGO                                                      \n",
       "1900-01-01          NaN          NaN          NaN          NaN  \n",
       "2014-04-11          NaN          NaN          NaN          NaN  \n",
       "2015-11-12          NaN          NaN          NaN          NaN  \n",
       "2014-06-24          NaN          NaN          NaN          NaN  \n",
       "1900-01-01          NaN          NaN          NaN          NaN  \n",
       "\n",
       "[5 rows x 65 columns]"
      ]
     },
     "execution_count": 3,
     "metadata": {},
     "output_type": "execute_result"
    }
   ],
   "source": [
    "# importing the data set with FECHA_PAGO as index, parse_date means we are using pandas' datetime function, dayfirst adjusts for European date format\n",
    "df = pd.read_csv('auto_debt.csv', sep=',', encoding='utf-8', index_col='FECHA_PAGO', parse_dates=True, dayfirst=True)\n",
    "df.head()"
   ]
  },
  {
   "cell_type": "code",
   "execution_count": 4,
   "metadata": {},
   "outputs": [],
   "source": [
    "# put the dates in order\n",
    "df = df.sort_values('FECHA_PAGO')"
   ]
  },
  {
   "cell_type": "code",
   "execution_count": 5,
   "metadata": {},
   "outputs": [
    {
     "data": {
      "text/html": [
       "<div>\n",
       "<style scoped>\n",
       "    .dataframe tbody tr th:only-of-type {\n",
       "        vertical-align: middle;\n",
       "    }\n",
       "\n",
       "    .dataframe tbody tr th {\n",
       "        vertical-align: top;\n",
       "    }\n",
       "\n",
       "    .dataframe thead th {\n",
       "        text-align: right;\n",
       "    }\n",
       "</style>\n",
       "<table border=\"1\" class=\"dataframe\">\n",
       "  <thead>\n",
       "    <tr style=\"text-align: right;\">\n",
       "      <th></th>\n",
       "      <th>MCC_OBN_ID</th>\n",
       "      <th>MCC_TIPO_MOVIMIENTO</th>\n",
       "      <th>MCC_IMPORTE</th>\n",
       "      <th>MCC_FECHA_BAJA</th>\n",
       "      <th>MCC_TIPO_ORIGEN</th>\n",
       "      <th>MCC_CCC_ID</th>\n",
       "      <th>MCC_FECHA_MOVIMIENTO</th>\n",
       "      <th>OBN_PERIODO</th>\n",
       "      <th>OBN_CUOTA</th>\n",
       "      <th>OBN_TIPO_OBJETO_ID</th>\n",
       "      <th>...</th>\n",
       "      <th>Unnamed: 57</th>\n",
       "      <th>Unnamed: 58</th>\n",
       "      <th>Unnamed: 59</th>\n",
       "      <th>Unnamed: 60</th>\n",
       "      <th>Unnamed: 61</th>\n",
       "      <th>Unnamed: 62</th>\n",
       "      <th>Unnamed: 63</th>\n",
       "      <th>Unnamed: 64</th>\n",
       "      <th>Unnamed: 65</th>\n",
       "      <th>Period</th>\n",
       "    </tr>\n",
       "    <tr>\n",
       "      <th>FECHA_PAGO</th>\n",
       "      <th></th>\n",
       "      <th></th>\n",
       "      <th></th>\n",
       "      <th></th>\n",
       "      <th></th>\n",
       "      <th></th>\n",
       "      <th></th>\n",
       "      <th></th>\n",
       "      <th></th>\n",
       "      <th></th>\n",
       "      <th></th>\n",
       "      <th></th>\n",
       "      <th></th>\n",
       "      <th></th>\n",
       "      <th></th>\n",
       "      <th></th>\n",
       "      <th></th>\n",
       "      <th></th>\n",
       "      <th></th>\n",
       "      <th></th>\n",
       "      <th></th>\n",
       "    </tr>\n",
       "  </thead>\n",
       "  <tbody>\n",
       "    <tr>\n",
       "      <th>1900-01-01</th>\n",
       "      <td>20130000000017031068</td>\n",
       "      <td>C</td>\n",
       "      <td>21.0</td>\n",
       "      <td>01/01/1900</td>\n",
       "      <td>SEL</td>\n",
       "      <td>010</td>\n",
       "      <td>17/09/2014</td>\n",
       "      <td>2014.0</td>\n",
       "      <td>20.0</td>\n",
       "      <td>A</td>\n",
       "      <td>...</td>\n",
       "      <td>NaN</td>\n",
       "      <td>NaN</td>\n",
       "      <td>NaN</td>\n",
       "      <td>NaN</td>\n",
       "      <td>NaN</td>\n",
       "      <td>NaN</td>\n",
       "      <td>NaN</td>\n",
       "      <td>NaN</td>\n",
       "      <td>NaN</td>\n",
       "      <td>1900-01</td>\n",
       "    </tr>\n",
       "    <tr>\n",
       "      <th>1900-01-01</th>\n",
       "      <td>20130000000013383180</td>\n",
       "      <td>C</td>\n",
       "      <td>21.0</td>\n",
       "      <td>01/01/1900</td>\n",
       "      <td>SEL</td>\n",
       "      <td>010</td>\n",
       "      <td>14/05/2014</td>\n",
       "      <td>2014.0</td>\n",
       "      <td>10.0</td>\n",
       "      <td>A</td>\n",
       "      <td>...</td>\n",
       "      <td>NaN</td>\n",
       "      <td>NaN</td>\n",
       "      <td>NaN</td>\n",
       "      <td>NaN</td>\n",
       "      <td>NaN</td>\n",
       "      <td>NaN</td>\n",
       "      <td>NaN</td>\n",
       "      <td>NaN</td>\n",
       "      <td>NaN</td>\n",
       "      <td>1900-01</td>\n",
       "    </tr>\n",
       "    <tr>\n",
       "      <th>1900-01-01</th>\n",
       "      <td>20130000000013383180</td>\n",
       "      <td>D</td>\n",
       "      <td>21.0</td>\n",
       "      <td>01/01/1900</td>\n",
       "      <td>NULO</td>\n",
       "      <td>600</td>\n",
       "      <td>14/05/2014</td>\n",
       "      <td>2014.0</td>\n",
       "      <td>10.0</td>\n",
       "      <td>A</td>\n",
       "      <td>...</td>\n",
       "      <td>NaN</td>\n",
       "      <td>NaN</td>\n",
       "      <td>NaN</td>\n",
       "      <td>NaN</td>\n",
       "      <td>NaN</td>\n",
       "      <td>NaN</td>\n",
       "      <td>NaN</td>\n",
       "      <td>NaN</td>\n",
       "      <td>NaN</td>\n",
       "      <td>1900-01</td>\n",
       "    </tr>\n",
       "    <tr>\n",
       "      <th>1900-01-01</th>\n",
       "      <td>20130000000013307233</td>\n",
       "      <td>C</td>\n",
       "      <td>33.6</td>\n",
       "      <td>01/01/1900</td>\n",
       "      <td>SEL</td>\n",
       "      <td>010</td>\n",
       "      <td>17/09/2014</td>\n",
       "      <td>2014.0</td>\n",
       "      <td>20.0</td>\n",
       "      <td>A</td>\n",
       "      <td>...</td>\n",
       "      <td>NaN</td>\n",
       "      <td>NaN</td>\n",
       "      <td>NaN</td>\n",
       "      <td>NaN</td>\n",
       "      <td>NaN</td>\n",
       "      <td>NaN</td>\n",
       "      <td>NaN</td>\n",
       "      <td>NaN</td>\n",
       "      <td>NaN</td>\n",
       "      <td>1900-01</td>\n",
       "    </tr>\n",
       "    <tr>\n",
       "      <th>1900-01-01</th>\n",
       "      <td>20130000000013307233</td>\n",
       "      <td>D</td>\n",
       "      <td>33.6</td>\n",
       "      <td>01/01/1900</td>\n",
       "      <td>NULO</td>\n",
       "      <td>600</td>\n",
       "      <td>17/09/2014</td>\n",
       "      <td>2014.0</td>\n",
       "      <td>20.0</td>\n",
       "      <td>A</td>\n",
       "      <td>...</td>\n",
       "      <td>NaN</td>\n",
       "      <td>NaN</td>\n",
       "      <td>NaN</td>\n",
       "      <td>NaN</td>\n",
       "      <td>NaN</td>\n",
       "      <td>NaN</td>\n",
       "      <td>NaN</td>\n",
       "      <td>NaN</td>\n",
       "      <td>NaN</td>\n",
       "      <td>1900-01</td>\n",
       "    </tr>\n",
       "  </tbody>\n",
       "</table>\n",
       "<p>5 rows × 66 columns</p>\n",
       "</div>"
      ],
      "text/plain": [
       "                      MCC_OBN_ID MCC_TIPO_MOVIMIENTO  MCC_IMPORTE  \\\n",
       "FECHA_PAGO                                                          \n",
       "1900-01-01  20130000000017031068                   C         21.0   \n",
       "1900-01-01  20130000000013383180                   C         21.0   \n",
       "1900-01-01  20130000000013383180                   D         21.0   \n",
       "1900-01-01  20130000000013307233                   C         33.6   \n",
       "1900-01-01  20130000000013307233                   D         33.6   \n",
       "\n",
       "           MCC_FECHA_BAJA MCC_TIPO_ORIGEN MCC_CCC_ID MCC_FECHA_MOVIMIENTO  \\\n",
       "FECHA_PAGO                                                                  \n",
       "1900-01-01     01/01/1900             SEL        010           17/09/2014   \n",
       "1900-01-01     01/01/1900             SEL        010           14/05/2014   \n",
       "1900-01-01     01/01/1900            NULO        600           14/05/2014   \n",
       "1900-01-01     01/01/1900             SEL        010           17/09/2014   \n",
       "1900-01-01     01/01/1900            NULO        600           17/09/2014   \n",
       "\n",
       "            OBN_PERIODO  OBN_CUOTA OBN_TIPO_OBJETO_ID  ...  Unnamed: 57  \\\n",
       "FECHA_PAGO                                             ...                \n",
       "1900-01-01       2014.0       20.0                  A  ...          NaN   \n",
       "1900-01-01       2014.0       10.0                  A  ...          NaN   \n",
       "1900-01-01       2014.0       10.0                  A  ...          NaN   \n",
       "1900-01-01       2014.0       20.0                  A  ...          NaN   \n",
       "1900-01-01       2014.0       20.0                  A  ...          NaN   \n",
       "\n",
       "           Unnamed: 58 Unnamed: 59  Unnamed: 60  Unnamed: 61  Unnamed: 62  \\\n",
       "FECHA_PAGO                                                                  \n",
       "1900-01-01         NaN         NaN          NaN          NaN          NaN   \n",
       "1900-01-01         NaN         NaN          NaN          NaN          NaN   \n",
       "1900-01-01         NaN         NaN          NaN          NaN          NaN   \n",
       "1900-01-01         NaN         NaN          NaN          NaN          NaN   \n",
       "1900-01-01         NaN         NaN          NaN          NaN          NaN   \n",
       "\n",
       "            Unnamed: 63  Unnamed: 64  Unnamed: 65   Period  \n",
       "FECHA_PAGO                                                  \n",
       "1900-01-01          NaN          NaN          NaN  1900-01  \n",
       "1900-01-01          NaN          NaN          NaN  1900-01  \n",
       "1900-01-01          NaN          NaN          NaN  1900-01  \n",
       "1900-01-01          NaN          NaN          NaN  1900-01  \n",
       "1900-01-01          NaN          NaN          NaN  1900-01  \n",
       "\n",
       "[5 rows x 66 columns]"
      ]
     },
     "execution_count": 5,
     "metadata": {},
     "output_type": "execute_result"
    }
   ],
   "source": [
    "# add a new column called \"Period\" with the year-month format\n",
    "df['Period'] = df.index.to_period(freq='M')\n",
    "df.head()"
   ]
  },
  {
   "cell_type": "markdown",
   "metadata": {},
   "source": [
    "### Data wrangling: "
   ]
  },
  {
   "cell_type": "code",
   "execution_count": 6,
   "metadata": {
    "scrolled": true
   },
   "outputs": [],
   "source": [
    "# We only want origen PAO\n",
    "origen_df = df.groupby('MCC_TIPO_ORIGEN')\n",
    "pao_df = origen_df.get_group('PAO')\n",
    "# We only want tipo C (credito)\n",
    "pao_tipo = pao_df.groupby('MCC_TIPO_MOVIMIENTO')\n",
    "clean_df = pao_tipo.get_group('C')"
   ]
  },
  {
   "cell_type": "markdown",
   "metadata": {},
   "source": [
    "# All transactions - 2016"
   ]
  },
  {
   "cell_type": "code",
   "execution_count": 7,
   "metadata": {
    "scrolled": true
   },
   "outputs": [
    {
     "data": {
      "text/plain": [
       "FECHA_PAGO\n",
       "2016-01-11       51.37\n",
       "2016-01-11       68.96\n",
       "2016-01-11      143.37\n",
       "2016-01-11      122.89\n",
       "2016-01-12       11.13\n",
       "2016-01-12       23.10\n",
       "2016-03-22       41.65\n",
       "2016-03-22       61.43\n",
       "2016-04-29    13748.70\n",
       "2016-04-29    10525.90\n",
       "2016-04-29    21051.80\n",
       "2016-04-29    23303.00\n",
       "2016-04-29    10525.90\n",
       "2016-04-29    27497.40\n",
       "2016-04-29    13748.70\n",
       "2016-04-29    19973.80\n",
       "2016-05-11       35.56\n",
       "2016-05-11      240.53\n",
       "2016-05-11      362.25\n",
       "2016-06-16       35.66\n",
       "2016-06-16       27.24\n",
       "2016-07-10      360.00\n",
       "2016-07-10      215.64\n",
       "2016-07-20       34.30\n",
       "2016-08-11       30.80\n",
       "2016-08-11       25.26\n",
       "2016-08-26     1417.85\n",
       "2016-08-26     2835.70\n",
       "2016-08-26     2407.65\n",
       "2016-08-26     1880.20\n",
       "                ...   \n",
       "2016-12-14       27.75\n",
       "2016-12-21      434.66\n",
       "2016-12-21       79.84\n",
       "2016-12-21       60.22\n",
       "2016-12-21       78.26\n",
       "2016-12-21       43.90\n",
       "2016-12-21      143.06\n",
       "2016-12-21      217.33\n",
       "2016-12-21       39.13\n",
       "2016-12-21       21.95\n",
       "2016-12-21      143.06\n",
       "2016-12-21       41.93\n",
       "2016-12-21       69.20\n",
       "2016-12-21       59.31\n",
       "2016-12-21       45.26\n",
       "2016-12-21       57.16\n",
       "2016-12-21      281.88\n",
       "2016-12-21       39.92\n",
       "2016-12-21       30.11\n",
       "2016-12-21       90.52\n",
       "2016-12-21      114.32\n",
       "2016-12-21      122.63\n",
       "2016-12-27       33.60\n",
       "2016-12-27       32.19\n",
       "2016-12-30      294.06\n",
       "2016-12-30      169.21\n",
       "2016-12-30      147.03\n",
       "2016-12-30      176.08\n",
       "2016-12-30      338.42\n",
       "2016-12-30      176.08\n",
       "Name: MCC_IMPORTE, Length: 117, dtype: float64"
      ]
     },
     "execution_count": 7,
     "metadata": {},
     "output_type": "execute_result"
    }
   ],
   "source": [
    "# Totals (all cuotas combined)\n",
    "clean_df.MCC_IMPORTE['Jan-2016':'Dec-2016']"
   ]
  },
  {
   "cell_type": "markdown",
   "metadata": {},
   "source": [
    "# BY CUOTA"
   ]
  },
  {
   "cell_type": "code",
   "execution_count": 8,
   "metadata": {},
   "outputs": [],
   "source": [
    "cuota_group = clean_df.groupby('OBN_CUOTA')"
   ]
  },
  {
   "cell_type": "markdown",
   "metadata": {},
   "source": [
    "## Cuota 0 - not data for 2016"
   ]
  },
  {
   "cell_type": "markdown",
   "metadata": {},
   "source": [
    "## Cuota 10"
   ]
  },
  {
   "cell_type": "code",
   "execution_count": 12,
   "metadata": {},
   "outputs": [],
   "source": [
    "grupo_ten = cuota_group.get_group(10.0)\n",
    "ten_graph = grupo_ten.MCC_IMPORTE['Jan-2016':'Dec-2016']"
   ]
  },
  {
   "cell_type": "code",
   "execution_count": 21,
   "metadata": {},
   "outputs": [
    {
     "data": {
      "text/plain": [
       "<matplotlib.axes._subplots.AxesSubplot at 0x117154090>"
      ]
     },
     "execution_count": 21,
     "metadata": {},
     "output_type": "execute_result"
    },
    {
     "data": {
      "image/png": "[encoded data removed]",
      "text/plain": [
       "<matplotlib.figure.Figure at 0x116ce1850>"
      ]
     },
     "metadata": {
      "needs_background": "light"
     },
     "output_type": "display_data"
    }
   ],
   "source": [
    "ten_graph.plot(kind='bar', title='2016 transactions for Cuota 10',)"
   ]
  },
  {
   "cell_type": "markdown",
   "metadata": {},
   "source": [
    "## Cuota 20"
   ]
  },
  {
   "cell_type": "code",
   "execution_count": 14,
   "metadata": {},
   "outputs": [],
   "source": [
    "grupo_twenty = cuota_group.get_group(20.0)\n",
    "twenty_graph = grupo_twenty.MCC_IMPORTE['Jan-2016':'Dec-2016']"
   ]
  },
  {
   "cell_type": "code",
   "execution_count": 18,
   "metadata": {},
   "outputs": [
    {
     "data": {
      "text/plain": [
       "<matplotlib.axes._subplots.AxesSubplot at 0x1168da1d0>"
      ]
     },
     "execution_count": 18,
     "metadata": {},
     "output_type": "execute_result"
    },
    {
     "data": {
      "image/png": "[encoded data removed]",
      "text/plain": [
       "<matplotlib.figure.Figure at 0x115e3ba10>"
      ]
     },
     "metadata": {
      "needs_background": "light"
     },
     "output_type": "display_data"
    }
   ],
   "source": [
    "twenty_graph.plot(kind='bar', title='2016 transactions for Cuota 20')"
   ]
  },
  {
   "cell_type": "markdown",
   "metadata": {},
   "source": [
    "## Cuota 50"
   ]
  },
  {
   "cell_type": "code",
   "execution_count": 16,
   "metadata": {},
   "outputs": [],
   "source": [
    "grupo_fifty = cuota_group.get_group(50.0)\n",
    "fifty_graph = grupo_fifty.MCC_IMPORTE['Jan-2016':'Dec-2016']"
   ]
  },
  {
   "cell_type": "code",
   "execution_count": 19,
   "metadata": {},
   "outputs": [
    {
     "data": {
      "text/plain": [
       "<matplotlib.axes._subplots.AxesSubplot at 0x116cc1910>"
      ]
     },
     "execution_count": 19,
     "metadata": {},
     "output_type": "execute_result"
    },
    {
     "data": {
      "image/png": "[encoded data removed]",
      "text/plain": [
       "<matplotlib.figure.Figure at 0x116ce1e90>"
      ]
     },
     "metadata": {
      "needs_background": "light"
     },
     "output_type": "display_data"
    }
   ],
   "source": [
    "fifty_graph.plot(kind='bar', title='2016 transactions for Cuota 50')"
   ]
  },
  {
   "cell_type": "markdown",
   "metadata": {},
   "source": [
    "## Cuota 51 - not data for 2016"
   ]
  },
  {
   "cell_type": "markdown",
   "metadata": {},
   "source": [
    "## Cuota 90 - not data for 2016"
   ]
  }
 ],
 "metadata": {
  "kernelspec": {
   "display_name": "Python 2",
   "language": "python",
   "name": "python2"
  },
  "language_info": {
   "codemirror_mode": {
    "name": "ipython",
    "version": 2
   },
   "file_extension": ".py",
   "mimetype": "text/x-python",
   "name": "python",
   "nbconvert_exporter": "python",
   "pygments_lexer": "ipython2",
   "version": "2.7.16"
  }
 },
 "nbformat": 4,
 "nbformat_minor": 2
}
