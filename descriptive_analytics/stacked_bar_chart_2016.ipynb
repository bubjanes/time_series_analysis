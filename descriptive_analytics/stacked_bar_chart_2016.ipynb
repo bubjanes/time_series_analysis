{
 "cells": [
  {
   "cell_type": "markdown",
   "metadata": {},
   "source": [
    "# Stacked Bar Chart 2016"
   ]
  },
  {
   "cell_type": "code",
   "execution_count": 1,
   "metadata": {},
   "outputs": [],
   "source": [
    "import csv\n",
    "import pandas as pd\n",
    "import matplotlib.pyplot as plt\n",
    "from pandas.plotting import register_matplotlib_converters\n",
    "%matplotlib inline"
   ]
  },
  {
   "cell_type": "code",
   "execution_count": 2,
   "metadata": {},
   "outputs": [],
   "source": [
    "plt.rcParams['figure.figsize'] = [20, 20]"
   ]
  },
  {
   "cell_type": "markdown",
   "metadata": {},
   "source": [
    "## Data wrangling: \n"
   ]
  },
  {
   "cell_type": "code",
   "execution_count": 3,
   "metadata": {
    "scrolled": true
   },
   "outputs": [],
   "source": [
    "# importing the data set with FECHA_PAGO as index, parse_date means we are using pandas' datetime function, datefirst adjusts for European date format\n",
    "df = pd.read_csv('auto_debt.csv', sep=',', encoding='utf-8', index_col='FECHA_PAGO', parse_dates=True, dayfirst=True)\n",
    "# put the dates in order\n",
    "df = df.sort_values('FECHA_PAGO')\n",
    "# add a new column called \"Period\" with the year-month format\n",
    "df['Period'] = df.index.to_period(freq='M')\n",
    "# We only want origen (PAO)\n",
    "origen_df = df.groupby('MCC_TIPO_ORIGEN')\n",
    "pao_df = origen_df.get_group('PAO')\n",
    "# We only want tipo C (credito)\n",
    "pao_tipo = pao_df.groupby('MCC_TIPO_MOVIMIENTO')\n",
    "clean_df = pao_tipo.get_group('C')\n",
    "# select only 2016\n",
    "clean_df = clean_df['2016-01':'2016-12']"
   ]
  },
  {
   "cell_type": "markdown",
   "metadata": {},
   "source": [
    "## Create a new df with only cuotas 10, 20, and 50"
   ]
  },
  {
   "cell_type": "code",
   "execution_count": 4,
   "metadata": {},
   "outputs": [],
   "source": [
    "indexed = clean_df.set_index('Period')\n",
    "cuota_group2 = indexed.groupby('OBN_CUOTA')"
   ]
  },
  {
   "cell_type": "code",
   "execution_count": 5,
   "metadata": {},
   "outputs": [],
   "source": [
    "def df_three(self_one,self_two,self_three):\n",
    "    \"\"\"This function takes three numbers (the data frame numbers) and turns them into a new data frame with information about those cuotas.\"\"\"\n",
    "    global ten_df\n",
    "    global twenty_df\n",
    "    global fifty_df\n",
    "    cuotas = [self_one, self_two, self_three]\n",
    "    for i in cuotas:\n",
    "        x = cuota_group2.get_group(i)\n",
    "        name = str(i)\n",
    "        name = 'Cuota_'+name[:2]\n",
    "        x.rename(index=str, columns={\"MCC_IMPORTE\":name}, inplace=True)        \n",
    "        x_series = x.groupby('Period').sum()\n",
    "        x_series = x_series.iloc[:,:1]\n",
    "        if i == 10.0:\n",
    "            ten_df = pd.DataFrame(x_series)\n",
    "        if i == 20.0:\n",
    "            twenty_df = pd.DataFrame(x_series)\n",
    "        if i == 50.0:\n",
    "            fifty_df = pd.DataFrame(x_series)\n",
    "    merge_three(ten_df,twenty_df,fifty_df) "
   ]
  },
  {
   "cell_type": "code",
   "execution_count": 6,
   "metadata": {},
   "outputs": [],
   "source": [
    "def merge_three(self1,self2,self3):\n",
    "    global merged\n",
    "    global merged_total\n",
    "    global new_df\n",
    "    merged = pd.merge(self1,self2, on='Period', how='outer')\n",
    "    merged_total = pd.merge(merged,self3, on='Period', how='outer')\n",
    "    new_df = merged_total.sort_index()"
   ]
  },
  {
   "cell_type": "code",
   "execution_count": 7,
   "metadata": {},
   "outputs": [
    {
     "name": "stderr",
     "output_type": "stream",
     "text": [
      "/anaconda3/lib/python3.7/site-packages/pandas/core/frame.py:3781: SettingWithCopyWarning: \n",
      "A value is trying to be set on a copy of a slice from a DataFrame\n",
      "\n",
      "See the caveats in the documentation: http://pandas.pydata.org/pandas-docs/stable/indexing.html#indexing-view-versus-copy\n",
      "  return super(DataFrame, self).rename(**kwargs)\n"
     ]
    }
   ],
   "source": [
    "df_three(10.0,20.0,50.0)"
   ]
  },
  {
   "cell_type": "markdown",
   "metadata": {},
   "source": [
    "## Now we have a new data frame"
   ]
  },
  {
   "cell_type": "code",
   "execution_count": 8,
   "metadata": {
    "scrolled": true
   },
   "outputs": [
    {
     "data": {
      "text/html": [
       "<div>\n",
       "<style scoped>\n",
       "    .dataframe tbody tr th:only-of-type {\n",
       "        vertical-align: middle;\n",
       "    }\n",
       "\n",
       "    .dataframe tbody tr th {\n",
       "        vertical-align: top;\n",
       "    }\n",
       "\n",
       "    .dataframe thead th {\n",
       "        text-align: right;\n",
       "    }\n",
       "</style>\n",
       "<table border=\"1\" class=\"dataframe\">\n",
       "  <thead>\n",
       "    <tr style=\"text-align: right;\">\n",
       "      <th></th>\n",
       "      <th>Cuota_10</th>\n",
       "      <th>Cuota_20</th>\n",
       "      <th>Cuota_50</th>\n",
       "    </tr>\n",
       "    <tr>\n",
       "      <th>Period</th>\n",
       "      <th></th>\n",
       "      <th></th>\n",
       "      <th></th>\n",
       "    </tr>\n",
       "  </thead>\n",
       "  <tbody>\n",
       "    <tr>\n",
       "      <th>2016-01</th>\n",
       "      <td>NaN</td>\n",
       "      <td>246.56</td>\n",
       "      <td>174.26</td>\n",
       "    </tr>\n",
       "    <tr>\n",
       "      <th>2016-03</th>\n",
       "      <td>103.08</td>\n",
       "      <td>NaN</td>\n",
       "      <td>NaN</td>\n",
       "    </tr>\n",
       "    <tr>\n",
       "      <th>2016-04</th>\n",
       "      <td>NaN</td>\n",
       "      <td>78297.80</td>\n",
       "      <td>62077.40</td>\n",
       "    </tr>\n",
       "    <tr>\n",
       "      <th>2016-05</th>\n",
       "      <td>638.34</td>\n",
       "      <td>NaN</td>\n",
       "      <td>NaN</td>\n",
       "    </tr>\n",
       "    <tr>\n",
       "      <th>2016-06</th>\n",
       "      <td>62.90</td>\n",
       "      <td>NaN</td>\n",
       "      <td>NaN</td>\n",
       "    </tr>\n",
       "    <tr>\n",
       "      <th>2016-07</th>\n",
       "      <td>34.30</td>\n",
       "      <td>NaN</td>\n",
       "      <td>575.64</td>\n",
       "    </tr>\n",
       "    <tr>\n",
       "      <th>2016-08</th>\n",
       "      <td>11958.86</td>\n",
       "      <td>10619.00</td>\n",
       "      <td>8551.20</td>\n",
       "    </tr>\n",
       "    <tr>\n",
       "      <th>2016-10</th>\n",
       "      <td>68766.60</td>\n",
       "      <td>61061.00</td>\n",
       "      <td>49039.20</td>\n",
       "    </tr>\n",
       "    <tr>\n",
       "      <th>2016-11</th>\n",
       "      <td>1553.67</td>\n",
       "      <td>NaN</td>\n",
       "      <td>509.06</td>\n",
       "    </tr>\n",
       "    <tr>\n",
       "      <th>2016-12</th>\n",
       "      <td>2223.59</td>\n",
       "      <td>1091.24</td>\n",
       "      <td>383.57</td>\n",
       "    </tr>\n",
       "  </tbody>\n",
       "</table>\n",
       "</div>"
      ],
      "text/plain": [
       "         Cuota_10  Cuota_20  Cuota_50\n",
       "Period                               \n",
       "2016-01       NaN    246.56    174.26\n",
       "2016-03    103.08       NaN       NaN\n",
       "2016-04       NaN  78297.80  62077.40\n",
       "2016-05    638.34       NaN       NaN\n",
       "2016-06     62.90       NaN       NaN\n",
       "2016-07     34.30       NaN    575.64\n",
       "2016-08  11958.86  10619.00   8551.20\n",
       "2016-10  68766.60  61061.00  49039.20\n",
       "2016-11   1553.67       NaN    509.06\n",
       "2016-12   2223.59   1091.24    383.57"
      ]
     },
     "execution_count": 8,
     "metadata": {},
     "output_type": "execute_result"
    }
   ],
   "source": [
    "new_df"
   ]
  },
  {
   "cell_type": "markdown",
   "metadata": {},
   "source": [
    "# Making the chart"
   ]
  },
  {
   "cell_type": "code",
   "execution_count": 9,
   "metadata": {},
   "outputs": [],
   "source": [
    "indx = new_df.index.astype(str).tolist()\n",
    "# match the heights with \n",
    "bar10 = new_df.Cuota_10.fillna(0)\n",
    "bar20 = new_df.Cuota_20.fillna(0)\n",
    "bar50 = new_df.Cuota_50.fillna(0)"
   ]
  },
  {
   "cell_type": "code",
   "execution_count": 11,
   "metadata": {},
   "outputs": [
    {
     "data": {
      "image/png": "[encoded data removed]",
      "text/plain": [
       "<Figure size 1440x720 with 1 Axes>"
      ]
     },
     "metadata": {
      "needs_background": "light"
     },
     "output_type": "display_data"
    }
   ],
   "source": [
    "import numpy as np\n",
    "from matplotlib import rc\n",
    " \n",
    "plt.rcParams['figure.figsize'] = [20, 10]\n",
    "# y-axis in bold\n",
    "rc('font', weight='bold')\n",
    " \n",
    "# Names of group and bar width\n",
    "barWidth = 0.75\n",
    "\n",
    "\n",
    "# Create red bars bottom\n",
    "p1 = plt.bar(indx, bar10, color='green', edgecolor='white', width=barWidth)\n",
    "# Create yellow bars (middle), on top of the firs ones\n",
    "p2 = plt.bar(indx, bar20, bottom=bar10, color='blue', edgecolor='white', width=barWidth)\n",
    "# Create blue bars (top)\n",
    "p3 = plt.bar(indx, bar50, bottom=bar20+bar10, color='yellow', edgecolor='white', width=barWidth)\n",
    "\n",
    "# label axes\n",
    "plt.ylabel('Pesos')\n",
    "plt.xlabel('Dates')\n",
    "plt.title('Sum of payments in 2016 by cuota type')\n",
    "# rotate X axis label\n",
    "plt.xticks(indx, rotation=90)\n",
    "plt.legend((p1[0], p2[0], p3[0]), ('Cuota 10', 'Cuota 20', 'Cuota 50'))\n",
    "# Show graphic\n",
    "plt.show()"
   ]
  },
  {
   "cell_type": "code",
   "execution_count": null,
   "metadata": {},
   "outputs": [],
   "source": []
  }
 ],
 "metadata": {
  "kernelspec": {
   "display_name": "Python [conda env:anaconda3]",
   "language": "python",
   "name": "conda-env-anaconda3-py"
  },
  "language_info": {
   "codemirror_mode": {
    "name": "ipython",
    "version": 3
   },
   "file_extension": ".py",
   "mimetype": "text/x-python",
   "name": "python",
   "nbconvert_exporter": "python",
   "pygments_lexer": "ipython3",
   "version": "3.7.1"
  }
 },
 "nbformat": 4,
 "nbformat_minor": 2
}
