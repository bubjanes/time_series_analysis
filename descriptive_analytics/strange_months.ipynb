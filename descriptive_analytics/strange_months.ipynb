{
 "cells": [
  {
   "cell_type": "markdown",
   "metadata": {},
   "source": [
    "# Strange months"
   ]
  },
  {
   "cell_type": "code",
   "execution_count": 2,
   "metadata": {},
   "outputs": [],
   "source": [
    "import csv\n",
    "import pandas as pd\n",
    "import matplotlib.pyplot as plt\n",
    "from pandas.plotting import register_matplotlib_converters\n",
    "import numpy as np\n",
    "from matplotlib import rc\n",
    "%matplotlib inline"
   ]
  },
  {
   "cell_type": "markdown",
   "metadata": {},
   "source": [
    "## Data wrangling: \n"
   ]
  },
  {
   "cell_type": "code",
   "execution_count": 3,
   "metadata": {
    "scrolled": true
   },
   "outputs": [
    {
     "data": {
      "text/html": [
       "<div>\n",
       "<style scoped>\n",
       "    .dataframe tbody tr th:only-of-type {\n",
       "        vertical-align: middle;\n",
       "    }\n",
       "\n",
       "    .dataframe tbody tr th {\n",
       "        vertical-align: top;\n",
       "    }\n",
       "\n",
       "    .dataframe thead th {\n",
       "        text-align: right;\n",
       "    }\n",
       "</style>\n",
       "<table border=\"1\" class=\"dataframe\">\n",
       "  <thead>\n",
       "    <tr style=\"text-align: right;\">\n",
       "      <th></th>\n",
       "      <th>MCC_OBN_ID</th>\n",
       "      <th>MCC_IMPORTE</th>\n",
       "      <th>OBN_CUOTA</th>\n",
       "      <th>Period</th>\n",
       "    </tr>\n",
       "    <tr>\n",
       "      <th>FECHA_PAGO</th>\n",
       "      <th></th>\n",
       "      <th></th>\n",
       "      <th></th>\n",
       "      <th></th>\n",
       "    </tr>\n",
       "  </thead>\n",
       "  <tbody>\n",
       "    <tr>\n",
       "      <th>2014-04-11</th>\n",
       "      <td>20130000000017880233</td>\n",
       "      <td>1943.40</td>\n",
       "      <td>10</td>\n",
       "      <td>2014-04</td>\n",
       "    </tr>\n",
       "    <tr>\n",
       "      <th>2014-09-05</th>\n",
       "      <td>20130000000016633320</td>\n",
       "      <td>378.00</td>\n",
       "      <td>20</td>\n",
       "      <td>2014-09</td>\n",
       "    </tr>\n",
       "    <tr>\n",
       "      <th>2014-01-17</th>\n",
       "      <td>20130000000018676823</td>\n",
       "      <td>38.55</td>\n",
       "      <td>10</td>\n",
       "      <td>2014-01</td>\n",
       "    </tr>\n",
       "    <tr>\n",
       "      <th>2014-06-24</th>\n",
       "      <td>20130000000021722038</td>\n",
       "      <td>605.50</td>\n",
       "      <td>20</td>\n",
       "      <td>2014-06</td>\n",
       "    </tr>\n",
       "  </tbody>\n",
       "</table>\n",
       "</div>"
      ],
      "text/plain": [
       "                      MCC_OBN_ID  MCC_IMPORTE  OBN_CUOTA  Period\n",
       "FECHA_PAGO                                                      \n",
       "2014-04-11  20130000000017880233      1943.40         10 2014-04\n",
       "2014-09-05  20130000000016633320       378.00         20 2014-09\n",
       "2014-01-17  20130000000018676823        38.55         10 2014-01\n",
       "2014-06-24  20130000000021722038       605.50         20 2014-06"
      ]
     },
     "execution_count": 3,
     "metadata": {},
     "output_type": "execute_result"
    }
   ],
   "source": [
    "# importing the data set with FECHA_PAGO as index, parse_date means we are using pandas' datetime function, datefirst adjusts for European date format\n",
    "df = pd.read_csv('auto_debt.csv', sep=',', encoding='utf-8', index_col='FECHA_PAGO', parse_dates=True, dayfirst=True)\n",
    "df.dropna(axis='columns', how='all', inplace=True)\n",
    "# add a new column called \"Period\" with the year-month format\n",
    "df['Period'] = df.index.to_period(freq='M')\n",
    "# We only want origen (PAO)\n",
    "df = df.copy()[df[\"MCC_TIPO_ORIGEN\"]==\"PAO\"]\n",
    "# We only want tipo C (credito)\n",
    "df = df[df['MCC_TIPO_MOVIMIENTO']==\"C\"]\n",
    "# drop unnecessary columns\n",
    "clean_df = df.drop(['MCC_TIPO_MOVIMIENTO','MCC_FECHA_BAJA','MCC_TIPO_ORIGEN','MCC_CCC_ID','MCC_FECHA_MOVIMIENTO','OBN_PERIODO','OBN_TIPO_OBJETO_ID','OBN_OBJETO_ID','FECHA_PROCESO','OBJETO'], axis=1)\n",
    "# git rid of this annoying decimal in the name of the cuotas\n",
    "clean_df['OBN_CUOTA'] = clean_df.OBN_CUOTA.astype(int)\n",
    "clean_df.head(4)"
   ]
  },
  {
   "cell_type": "code",
   "execution_count": 4,
   "metadata": {},
   "outputs": [],
   "source": [
    "period = clean_df.groupby('Period')\n",
    "count = period.MCC_IMPORTE.count()\n",
    "mean = period.MCC_IMPORTE.mean()\n",
    "median = period.MCC_IMPORTE.median()\n",
    "ma_x = period.MCC_IMPORTE.max()"
   ]
  },
  {
   "cell_type": "code",
   "execution_count": 5,
   "metadata": {},
   "outputs": [],
   "source": [
    "# this data frame is just to look at the numbers side by side \n",
    "df = pd.DataFrame({'Period' : ['Overall', '2016-04', '2019-04'],\n",
    "                 'Count' : [1405, 8, 508], \n",
    "                  'Mean' : [1600, 17546, 1550],\n",
    "                 'Median' : [180, 16861, 95],\n",
    "                  'Max' : [138440, 27497,138440]})\n",
    "\n",
    "df.set_index('Period', inplace=True)"
   ]
  },
  {
   "cell_type": "markdown",
   "metadata": {},
   "source": [
    "# Look at the strange numbers here"
   ]
  },
  {
   "cell_type": "code",
   "execution_count": 6,
   "metadata": {},
   "outputs": [
    {
     "data": {
      "text/html": [
       "<div>\n",
       "<style scoped>\n",
       "    .dataframe tbody tr th:only-of-type {\n",
       "        vertical-align: middle;\n",
       "    }\n",
       "\n",
       "    .dataframe tbody tr th {\n",
       "        vertical-align: top;\n",
       "    }\n",
       "\n",
       "    .dataframe thead th {\n",
       "        text-align: right;\n",
       "    }\n",
       "</style>\n",
       "<table border=\"1\" class=\"dataframe\">\n",
       "  <thead>\n",
       "    <tr style=\"text-align: right;\">\n",
       "      <th></th>\n",
       "      <th>Count</th>\n",
       "      <th>Mean</th>\n",
       "      <th>Median</th>\n",
       "      <th>Max</th>\n",
       "    </tr>\n",
       "    <tr>\n",
       "      <th>Period</th>\n",
       "      <th></th>\n",
       "      <th></th>\n",
       "      <th></th>\n",
       "      <th></th>\n",
       "    </tr>\n",
       "  </thead>\n",
       "  <tbody>\n",
       "    <tr>\n",
       "      <th>Overall</th>\n",
       "      <td>1405</td>\n",
       "      <td>1600</td>\n",
       "      <td>180</td>\n",
       "      <td>138440</td>\n",
       "    </tr>\n",
       "    <tr>\n",
       "      <th>2016-04</th>\n",
       "      <td>8</td>\n",
       "      <td>17546</td>\n",
       "      <td>16861</td>\n",
       "      <td>27497</td>\n",
       "    </tr>\n",
       "    <tr>\n",
       "      <th>2019-04</th>\n",
       "      <td>508</td>\n",
       "      <td>1550</td>\n",
       "      <td>95</td>\n",
       "      <td>138440</td>\n",
       "    </tr>\n",
       "  </tbody>\n",
       "</table>\n",
       "</div>"
      ],
      "text/plain": [
       "         Count   Mean  Median     Max\n",
       "Period                               \n",
       "Overall   1405   1600     180  138440\n",
       "2016-04      8  17546   16861   27497\n",
       "2019-04    508   1550      95  138440"
      ]
     },
     "execution_count": 6,
     "metadata": {},
     "output_type": "execute_result"
    }
   ],
   "source": [
    "df"
   ]
  },
  {
   "cell_type": "markdown",
   "metadata": {},
   "source": [
    "## Pandas Computations"
   ]
  },
  {
   "cell_type": "code",
   "execution_count": 7,
   "metadata": {},
   "outputs": [
    {
     "data": {
      "text/plain": [
       "1405"
      ]
     },
     "execution_count": 7,
     "metadata": {},
     "output_type": "execute_result"
    }
   ],
   "source": [
    "# total payments in the dataset\n",
    "clean_df.MCC_IMPORTE.count()"
   ]
  },
  {
   "cell_type": "code",
   "execution_count": 8,
   "metadata": {},
   "outputs": [
    {
     "data": {
      "text/plain": [
       "1600.8557437722452"
      ]
     },
     "execution_count": 8,
     "metadata": {},
     "output_type": "execute_result"
    }
   ],
   "source": [
    "# Average overall \n",
    "clean_df.MCC_IMPORTE.mean()"
   ]
  },
  {
   "cell_type": "code",
   "execution_count": 9,
   "metadata": {},
   "outputs": [
    {
     "data": {
      "text/plain": [
       "138440.4"
      ]
     },
     "execution_count": 9,
     "metadata": {},
     "output_type": "execute_result"
    }
   ],
   "source": [
    "# Max value overall\n",
    "clean_df.MCC_IMPORTE.max()"
   ]
  },
  {
   "cell_type": "code",
   "execution_count": 10,
   "metadata": {},
   "outputs": [
    {
     "data": {
      "text/plain": [
       "180.0"
      ]
     },
     "execution_count": 10,
     "metadata": {},
     "output_type": "execute_result"
    }
   ],
   "source": [
    "# median value overall\n",
    "clean_df.MCC_IMPORTE.median()"
   ]
  },
  {
   "cell_type": "code",
   "execution_count": 11,
   "metadata": {},
   "outputs": [
    {
     "data": {
      "text/plain": [
       "6229.354161071126"
      ]
     },
     "execution_count": 11,
     "metadata": {},
     "output_type": "execute_result"
    }
   ],
   "source": [
    "# standard deviation overall\n",
    "clean_df.MCC_IMPORTE.std()"
   ]
  },
  {
   "cell_type": "markdown",
   "metadata": {},
   "source": [
    "## computations by period"
   ]
  },
  {
   "cell_type": "code",
   "execution_count": 12,
   "metadata": {},
   "outputs": [
    {
     "data": {
      "text/plain": [
       "Period\n",
       "2014-01      6\n",
       "2014-03      4\n",
       "2014-04     14\n",
       "2014-05     68\n",
       "2014-06      2\n",
       "2014-07      4\n",
       "2014-08      4\n",
       "2014-09     21\n",
       "2014-10     10\n",
       "2014-11     10\n",
       "2014-12      7\n",
       "2015-01      4\n",
       "2015-02      4\n",
       "2015-03      4\n",
       "2015-04     13\n",
       "2015-05      6\n",
       "2015-06     10\n",
       "2015-07      6\n",
       "2015-09      4\n",
       "2015-10     35\n",
       "2015-11     14\n",
       "2015-12     19\n",
       "2016-01      6\n",
       "2016-03      2\n",
       "2016-04      8\n",
       "2016-05      3\n",
       "2016-06      2\n",
       "2016-07      3\n",
       "2016-08     20\n",
       "2016-10     36\n",
       "2016-11      5\n",
       "2016-12     32\n",
       "2017-01     20\n",
       "2017-02      4\n",
       "2017-03      6\n",
       "2017-04      4\n",
       "2017-05     21\n",
       "2017-06      3\n",
       "2017-08      6\n",
       "2017-09     46\n",
       "2017-10     49\n",
       "2017-11      8\n",
       "2018-01      2\n",
       "2018-02     41\n",
       "2018-03     18\n",
       "2018-04     11\n",
       "2018-05     48\n",
       "2018-06     11\n",
       "2018-07     20\n",
       "2018-08     12\n",
       "2018-09     26\n",
       "2018-10      8\n",
       "2018-11     26\n",
       "2018-12     18\n",
       "2019-01     12\n",
       "2019-02      3\n",
       "2019-03     80\n",
       "2019-04    508\n",
       "2019-05      8\n",
       "Freq: M, Name: MCC_IMPORTE, dtype: int64"
      ]
     },
     "execution_count": 12,
     "metadata": {},
     "output_type": "execute_result"
    }
   ],
   "source": [
    "period = clean_df.groupby('Period')\n",
    "period.MCC_IMPORTE.count()"
   ]
  },
  {
   "cell_type": "code",
   "execution_count": 13,
   "metadata": {},
   "outputs": [
    {
     "data": {
      "text/plain": [
       "Period\n",
       "2014-01       861.00\n",
       "2014-03       456.75\n",
       "2014-04      1943.40\n",
       "2014-05      2308.04\n",
       "2014-06       605.50\n",
       "2014-07        30.80\n",
       "2014-08       525.00\n",
       "2014-09      1023.80\n",
       "2014-10       452.07\n",
       "2014-11       703.50\n",
       "2014-12       504.19\n",
       "2015-01       261.00\n",
       "2015-02       787.50\n",
       "2015-03      1732.54\n",
       "2015-04      1323.00\n",
       "2015-05       425.25\n",
       "2015-06       519.75\n",
       "2015-07      3267.60\n",
       "2015-09       299.25\n",
       "2015-10       477.75\n",
       "2015-11       525.00\n",
       "2015-12       425.23\n",
       "2016-01       143.37\n",
       "2016-03        61.43\n",
       "2016-04     27497.40\n",
       "2016-05       362.25\n",
       "2016-06        35.66\n",
       "2016-07       360.00\n",
       "2016-08      2835.70\n",
       "2016-10     13371.40\n",
       "2016-11       745.50\n",
       "2016-12       434.66\n",
       "2017-01      2612.40\n",
       "2017-02       212.27\n",
       "2017-03       420.00\n",
       "2017-04        58.80\n",
       "2017-05      3045.70\n",
       "2017-06       476.90\n",
       "2017-08       230.07\n",
       "2017-09     25526.90\n",
       "2017-10     33779.20\n",
       "2017-11       243.66\n",
       "2018-01        74.42\n",
       "2018-02      9643.20\n",
       "2018-03     31110.80\n",
       "2018-04       297.91\n",
       "2018-05      1111.77\n",
       "2018-06     16342.20\n",
       "2018-07      1011.12\n",
       "2018-08       151.20\n",
       "2018-09       645.00\n",
       "2018-10       519.75\n",
       "2018-11     30587.90\n",
       "2018-12      2169.65\n",
       "2019-01       158.52\n",
       "2019-02       476.90\n",
       "2019-03     32664.80\n",
       "2019-04    138440.40\n",
       "2019-05       123.77\n",
       "Freq: M, Name: MCC_IMPORTE, dtype: float64"
      ]
     },
     "execution_count": 13,
     "metadata": {},
     "output_type": "execute_result"
    }
   ],
   "source": [
    "# Maximum payments by month\n",
    "# Here we see that a $138,440.40 payment was made in April 2019. The median payment for that month was $95.43 pesos.\n",
    "\n",
    "period.MCC_IMPORTE.max()"
   ]
  },
  {
   "cell_type": "code",
   "execution_count": 14,
   "metadata": {},
   "outputs": [
    {
     "data": {
      "text/plain": [
       "Period\n",
       "2014-01      684.845\n",
       "2014-03       27.300\n",
       "2014-04      414.775\n",
       "2014-05      273.000\n",
       "2014-06      327.400\n",
       "2014-07       12.075\n",
       "2014-08      221.265\n",
       "2014-09      189.050\n",
       "2014-10       19.315\n",
       "2014-11      120.660\n",
       "2014-12        2.540\n",
       "2015-01       11.640\n",
       "2015-02      207.640\n",
       "2015-03      261.735\n",
       "2015-04      165.740\n",
       "2015-05       93.380\n",
       "2015-06      167.265\n",
       "2015-07      273.115\n",
       "2015-09       81.860\n",
       "2015-10       43.640\n",
       "2015-11       62.450\n",
       "2015-12       40.680\n",
       "2016-01       60.165\n",
       "2016-03       51.540\n",
       "2016-04    16861.250\n",
       "2016-05      240.530\n",
       "2016-06       31.450\n",
       "2016-07      215.640\n",
       "2016-08     1576.575\n",
       "2016-10     4156.425\n",
       "2016-11      337.010\n",
       "2016-12       73.730\n",
       "2017-01       49.205\n",
       "2017-02      211.635\n",
       "2017-03      333.360\n",
       "2017-04       42.230\n",
       "2017-05     1220.800\n",
       "2017-06      444.480\n",
       "2017-08      115.200\n",
       "2017-09      367.500\n",
       "2017-10      114.010\n",
       "2017-11       14.080\n",
       "2018-01       64.650\n",
       "2018-02     1821.400\n",
       "2018-03     2607.150\n",
       "2018-04      216.730\n",
       "2018-05       26.985\n",
       "2018-06    10174.150\n",
       "2018-07      310.040\n",
       "2018-08       70.865\n",
       "2018-09       87.590\n",
       "2018-10      322.395\n",
       "2018-11      485.515\n",
       "2018-12     1471.225\n",
       "2019-01       87.480\n",
       "2019-02      444.480\n",
       "2019-03      122.335\n",
       "2019-04       95.425\n",
       "2019-05       90.845\n",
       "Freq: M, Name: MCC_IMPORTE, dtype: float64"
      ]
     },
     "execution_count": 14,
     "metadata": {},
     "output_type": "execute_result"
    }
   ],
   "source": [
    "period.MCC_IMPORTE.median()"
   ]
  },
  {
   "cell_type": "code",
   "execution_count": 15,
   "metadata": {},
   "outputs": [
    {
     "data": {
      "text/plain": [
       "Period\n",
       "2014-01      542.440000\n",
       "2014-03      128.027500\n",
       "2014-04      433.195714\n",
       "2014-05      395.888235\n",
       "2014-06      327.400000\n",
       "2014-07       14.047500\n",
       "2014-08      250.337500\n",
       "2014-09      208.778571\n",
       "2014-10      114.097000\n",
       "2014-11      196.961000\n",
       "2014-12       79.942857\n",
       "2015-01       71.172500\n",
       "2015-02      321.370000\n",
       "2015-03      565.815000\n",
       "2015-04      249.715385\n",
       "2015-05      157.556667\n",
       "2015-06      239.159000\n",
       "2015-07      869.346667\n",
       "2015-09      116.710000\n",
       "2015-10       77.994286\n",
       "2015-11      161.877143\n",
       "2015-12      107.320526\n",
       "2016-01       70.136667\n",
       "2016-03       51.540000\n",
       "2016-04    17546.900000\n",
       "2016-05      212.780000\n",
       "2016-06       31.450000\n",
       "2016-07      203.313333\n",
       "2016-08     1556.453000\n",
       "2016-10     4968.522222\n",
       "2016-11      412.546000\n",
       "2016-12      115.575000\n",
       "2017-01      536.583000\n",
       "2017-02      205.285000\n",
       "2017-03      301.933333\n",
       "2017-04       43.602500\n",
       "2017-05     1153.350000\n",
       "2017-06      371.006667\n",
       "2017-08      116.365000\n",
       "2017-09     4495.508913\n",
       "2017-10     3454.274082\n",
       "2017-11       45.877500\n",
       "2018-01       64.650000\n",
       "2018-02     2294.471220\n",
       "2018-03     6938.672222\n",
       "2018-04      170.140000\n",
       "2018-05      148.542708\n",
       "2018-06     8378.595455\n",
       "2018-07      334.053000\n",
       "2018-08       80.459167\n",
       "2018-09      167.666538\n",
       "2018-10      326.426250\n",
       "2018-11     5504.970000\n",
       "2018-12     1586.491667\n",
       "2019-01       93.916667\n",
       "2019-02      371.006667\n",
       "2019-03     1352.865375\n",
       "2019-04     1550.813740\n",
       "2019-05       92.555000\n",
       "Freq: M, Name: MCC_IMPORTE, dtype: float64"
      ]
     },
     "execution_count": 15,
     "metadata": {},
     "output_type": "execute_result"
    }
   ],
   "source": [
    "period.MCC_IMPORTE.mean()"
   ]
  },
  {
   "cell_type": "code",
   "execution_count": 16,
   "metadata": {},
   "outputs": [
    {
     "data": {
      "text/plain": [
       "Period\n",
       "2014-01     328.930132\n",
       "2014-03     219.505169\n",
       "2014-04     484.399451\n",
       "2014-05     495.453539\n",
       "2014-06     393.292792\n",
       "2014-07      14.642066\n",
       "2014-08     249.271996\n",
       "2014-09     241.758407\n",
       "2014-10     166.943222\n",
       "2014-11     236.199562\n",
       "2014-12     187.492536\n",
       "2015-01     126.689967\n",
       "2015-02     327.089425\n",
       "2015-03     810.500312\n",
       "2015-04     344.312075\n",
       "2015-05     155.472490\n",
       "2015-06     171.276989\n",
       "2015-07    1277.102632\n",
       "2015-09     138.937820\n",
       "2015-10     101.719638\n",
       "2015-11     163.175419\n",
       "2015-12     149.922260\n",
       "2016-01      53.280094\n",
       "2016-03      13.986572\n",
       "2016-04    6299.215751\n",
       "2016-05     165.103410\n",
       "2016-06       5.953839\n",
       "2016-07     163.199518\n",
       "2016-08     752.221199\n",
       "2016-10    2560.287320\n",
       "2016-11     208.293764\n",
       "2016-12     102.252761\n",
       "2017-01     741.789352\n",
       "2017-02      13.126748\n",
       "2017-03     108.548052\n",
       "2017-04      13.400872\n",
       "2017-05     980.990559\n",
       "2017-06     156.179592\n",
       "2017-08      87.901321\n",
       "2017-09    7119.248611\n",
       "2017-10    6607.240528\n",
       "2017-11      81.270902\n",
       "2018-01      13.816867\n",
       "2018-02    2174.790872\n",
       "2018-03    8252.872070\n",
       "2018-04     107.351961\n",
       "2018-05     263.329192\n",
       "2018-06    5752.369323\n",
       "2018-07     229.653143\n",
       "2018-08      57.417392\n",
       "2018-09     187.792618\n",
       "2018-10     102.210605\n",
       "2018-11    9891.007682\n",
       "2018-12     403.650406\n",
       "2019-01      42.931056\n",
       "2019-02     156.179592\n",
       "2019-03    5433.236778\n",
       "2019-04    8613.902716\n",
       "2019-05      24.933028\n",
       "Freq: M, Name: MCC_IMPORTE, dtype: float64"
      ]
     },
     "execution_count": 16,
     "metadata": {},
     "output_type": "execute_result"
    }
   ],
   "source": [
    "period.MCC_IMPORTE.std()"
   ]
  }
 ],
 "metadata": {
  "kernelspec": {
   "display_name": "Python [conda env:anaconda3]",
   "language": "python",
   "name": "conda-env-anaconda3-py"
  },
  "language_info": {
   "codemirror_mode": {
    "name": "ipython",
    "version": 3
   },
   "file_extension": ".py",
   "mimetype": "text/x-python",
   "name": "python",
   "nbconvert_exporter": "python",
   "pygments_lexer": "ipython3",
   "version": "3.7.1"
  }
 },
 "nbformat": 4,
 "nbformat_minor": 2
}
