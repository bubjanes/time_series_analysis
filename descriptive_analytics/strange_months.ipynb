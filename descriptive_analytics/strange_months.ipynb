{
 "cells": [
  {
   "cell_type": "markdown",
   "metadata": {},
   "source": [
    "# Strange months"
   ]
  },
  {
   "cell_type": "code",
   "execution_count": 30,
   "metadata": {},
   "outputs": [],
   "source": [
    "import csv\n",
    "import pandas as pd\n",
    "import matplotlib.pyplot as plt\n",
    "from pandas.plotting import register_matplotlib_converters\n",
    "import numpy as np\n",
    "from matplotlib import rc\n",
    "%matplotlib inline"
   ]
  },
  {
   "cell_type": "markdown",
   "metadata": {},
   "source": [
    "## Data wrangling: \n"
   ]
  },
  {
   "cell_type": "code",
   "execution_count": 31,
   "metadata": {
    "scrolled": true
   },
   "outputs": [
    {
     "data": {
      "text/html": [
       "<div>\n",
       "<style scoped>\n",
       "    .dataframe tbody tr th:only-of-type {\n",
       "        vertical-align: middle;\n",
       "    }\n",
       "\n",
       "    .dataframe tbody tr th {\n",
       "        vertical-align: top;\n",
       "    }\n",
       "\n",
       "    .dataframe thead th {\n",
       "        text-align: right;\n",
       "    }\n",
       "</style>\n",
       "<table border=\"1\" class=\"dataframe\">\n",
       "  <thead>\n",
       "    <tr style=\"text-align: right;\">\n",
       "      <th></th>\n",
       "      <th>MCC_OBN_ID</th>\n",
       "      <th>MCC_TIPO_MOVIMIENTO</th>\n",
       "      <th>MCC_IMPORTE</th>\n",
       "      <th>MCC_FECHA_BAJA</th>\n",
       "      <th>MCC_TIPO_ORIGEN</th>\n",
       "      <th>MCC_CCC_ID</th>\n",
       "      <th>MCC_FECHA_MOVIMIENTO</th>\n",
       "      <th>OBN_PERIODO</th>\n",
       "      <th>OBN_CUOTA</th>\n",
       "      <th>OBN_TIPO_OBJETO_ID</th>\n",
       "      <th>...</th>\n",
       "      <th>Unnamed: 57</th>\n",
       "      <th>Unnamed: 58</th>\n",
       "      <th>Unnamed: 59</th>\n",
       "      <th>Unnamed: 60</th>\n",
       "      <th>Unnamed: 61</th>\n",
       "      <th>Unnamed: 62</th>\n",
       "      <th>Unnamed: 63</th>\n",
       "      <th>Unnamed: 64</th>\n",
       "      <th>Unnamed: 65</th>\n",
       "      <th>Period</th>\n",
       "    </tr>\n",
       "    <tr>\n",
       "      <th>FECHA_PAGO</th>\n",
       "      <th></th>\n",
       "      <th></th>\n",
       "      <th></th>\n",
       "      <th></th>\n",
       "      <th></th>\n",
       "      <th></th>\n",
       "      <th></th>\n",
       "      <th></th>\n",
       "      <th></th>\n",
       "      <th></th>\n",
       "      <th></th>\n",
       "      <th></th>\n",
       "      <th></th>\n",
       "      <th></th>\n",
       "      <th></th>\n",
       "      <th></th>\n",
       "      <th></th>\n",
       "      <th></th>\n",
       "      <th></th>\n",
       "      <th></th>\n",
       "      <th></th>\n",
       "    </tr>\n",
       "  </thead>\n",
       "  <tbody>\n",
       "    <tr>\n",
       "      <th>2014-01-06</th>\n",
       "      <td>20130000000012823022</td>\n",
       "      <td>C</td>\n",
       "      <td>861.00</td>\n",
       "      <td>01/01/1900</td>\n",
       "      <td>PAO</td>\n",
       "      <td>700</td>\n",
       "      <td>06/01/2014</td>\n",
       "      <td>2014.0</td>\n",
       "      <td>0.0</td>\n",
       "      <td>A</td>\n",
       "      <td>...</td>\n",
       "      <td>NaN</td>\n",
       "      <td>NaN</td>\n",
       "      <td>NaN</td>\n",
       "      <td>NaN</td>\n",
       "      <td>NaN</td>\n",
       "      <td>NaN</td>\n",
       "      <td>NaN</td>\n",
       "      <td>NaN</td>\n",
       "      <td>NaN</td>\n",
       "      <td>2014-01</td>\n",
       "    </tr>\n",
       "    <tr>\n",
       "      <th>2014-01-10</th>\n",
       "      <td>20130000000018770873</td>\n",
       "      <td>C</td>\n",
       "      <td>732.76</td>\n",
       "      <td>01/01/1900</td>\n",
       "      <td>PAO</td>\n",
       "      <td>901</td>\n",
       "      <td>10/01/2014</td>\n",
       "      <td>2014.0</td>\n",
       "      <td>10.0</td>\n",
       "      <td>A</td>\n",
       "      <td>...</td>\n",
       "      <td>NaN</td>\n",
       "      <td>NaN</td>\n",
       "      <td>NaN</td>\n",
       "      <td>NaN</td>\n",
       "      <td>NaN</td>\n",
       "      <td>NaN</td>\n",
       "      <td>NaN</td>\n",
       "      <td>NaN</td>\n",
       "      <td>NaN</td>\n",
       "      <td>2014-01</td>\n",
       "    </tr>\n",
       "    <tr>\n",
       "      <th>2014-01-17</th>\n",
       "      <td>20130000000016323372</td>\n",
       "      <td>C</td>\n",
       "      <td>232.42</td>\n",
       "      <td>01/01/1900</td>\n",
       "      <td>PAO</td>\n",
       "      <td>CAC</td>\n",
       "      <td>17/01/2014</td>\n",
       "      <td>2014.0</td>\n",
       "      <td>20.0</td>\n",
       "      <td>A</td>\n",
       "      <td>...</td>\n",
       "      <td>NaN</td>\n",
       "      <td>NaN</td>\n",
       "      <td>NaN</td>\n",
       "      <td>NaN</td>\n",
       "      <td>NaN</td>\n",
       "      <td>NaN</td>\n",
       "      <td>NaN</td>\n",
       "      <td>NaN</td>\n",
       "      <td>NaN</td>\n",
       "      <td>2014-01</td>\n",
       "    </tr>\n",
       "  </tbody>\n",
       "</table>\n",
       "<p>3 rows × 66 columns</p>\n",
       "</div>"
      ],
      "text/plain": [
       "                      MCC_OBN_ID MCC_TIPO_MOVIMIENTO  MCC_IMPORTE  \\\n",
       "FECHA_PAGO                                                          \n",
       "2014-01-06  20130000000012823022                   C       861.00   \n",
       "2014-01-10  20130000000018770873                   C       732.76   \n",
       "2014-01-17  20130000000016323372                   C       232.42   \n",
       "\n",
       "           MCC_FECHA_BAJA MCC_TIPO_ORIGEN MCC_CCC_ID MCC_FECHA_MOVIMIENTO  \\\n",
       "FECHA_PAGO                                                                  \n",
       "2014-01-06     01/01/1900             PAO        700           06/01/2014   \n",
       "2014-01-10     01/01/1900             PAO        901           10/01/2014   \n",
       "2014-01-17     01/01/1900             PAO        CAC           17/01/2014   \n",
       "\n",
       "            OBN_PERIODO  OBN_CUOTA OBN_TIPO_OBJETO_ID   ...    Unnamed: 57  \\\n",
       "FECHA_PAGO                                              ...                  \n",
       "2014-01-06       2014.0        0.0                  A   ...            NaN   \n",
       "2014-01-10       2014.0       10.0                  A   ...            NaN   \n",
       "2014-01-17       2014.0       20.0                  A   ...            NaN   \n",
       "\n",
       "           Unnamed: 58 Unnamed: 59  Unnamed: 60  Unnamed: 61  Unnamed: 62  \\\n",
       "FECHA_PAGO                                                                  \n",
       "2014-01-06         NaN         NaN          NaN          NaN          NaN   \n",
       "2014-01-10         NaN         NaN          NaN          NaN          NaN   \n",
       "2014-01-17         NaN         NaN          NaN          NaN          NaN   \n",
       "\n",
       "            Unnamed: 63  Unnamed: 64  Unnamed: 65  Period  \n",
       "FECHA_PAGO                                                 \n",
       "2014-01-06          NaN          NaN          NaN 2014-01  \n",
       "2014-01-10          NaN          NaN          NaN 2014-01  \n",
       "2014-01-17          NaN          NaN          NaN 2014-01  \n",
       "\n",
       "[3 rows x 66 columns]"
      ]
     },
     "execution_count": 31,
     "metadata": {},
     "output_type": "execute_result"
    }
   ],
   "source": [
    "# importing the data set with FECHA_PAGO as index, parse_date means we are using pandas' datetime function, datefirst adjusts for European date format\n",
    "df = pd.read_csv('auto_debt.csv', sep=',', encoding='utf-8', index_col='FECHA_PAGO', parse_dates=True, dayfirst=True)\n",
    "# put the dates in order\n",
    "df = df.sort_values('FECHA_PAGO')\n",
    "# add a new column called \"Period\" with the year-month format\n",
    "df['Period'] = df.index.to_period(freq='M')\n",
    "# We only want origen (PAO)\n",
    "pao_df = df[df[\"MCC_TIPO_ORIGEN\"]==\"PAO\"]\n",
    "# We only want tipo C (credito)\n",
    "clean_df = pao_df[pao_df['MCC_TIPO_MOVIMIENTO']==\"C\"]\n",
    "clean_df.head(3)\n"
   ]
  },
  {
   "cell_type": "code",
   "execution_count": 32,
   "metadata": {},
   "outputs": [],
   "source": [
    "period = clean_df.groupby('Period')\n",
    "count = period.MCC_IMPORTE.count()\n",
    "mean = period.MCC_IMPORTE.mean()\n",
    "median = period.MCC_IMPORTE.median()\n",
    "ma_x = period.MCC_IMPORTE.max()"
   ]
  },
  {
   "cell_type": "code",
   "execution_count": 45,
   "metadata": {},
   "outputs": [],
   "source": [
    "# this data frame is just to look at the numbers side by side \n",
    "df = pd.DataFrame({'Period' : ['Overall', '2016-04', '2019-04'],\n",
    "                 'Count' : [1405, 8, 508], \n",
    "                  'Mean' : [1600, 17546, 1550],\n",
    "                 'Median' : [180, 16861, 95],\n",
    "                  'Max' : [138440, 27497,138440]})\n",
    "\n",
    "df.set_index('Period', inplace=True)"
   ]
  },
  {
   "cell_type": "markdown",
   "metadata": {},
   "source": [
    "# Look at the strange numbers here"
   ]
  },
  {
   "cell_type": "code",
   "execution_count": 46,
   "metadata": {},
   "outputs": [
    {
     "data": {
      "text/html": [
       "<div>\n",
       "<style scoped>\n",
       "    .dataframe tbody tr th:only-of-type {\n",
       "        vertical-align: middle;\n",
       "    }\n",
       "\n",
       "    .dataframe tbody tr th {\n",
       "        vertical-align: top;\n",
       "    }\n",
       "\n",
       "    .dataframe thead th {\n",
       "        text-align: right;\n",
       "    }\n",
       "</style>\n",
       "<table border=\"1\" class=\"dataframe\">\n",
       "  <thead>\n",
       "    <tr style=\"text-align: right;\">\n",
       "      <th></th>\n",
       "      <th>Count</th>\n",
       "      <th>Mean</th>\n",
       "      <th>Median</th>\n",
       "      <th>Max</th>\n",
       "    </tr>\n",
       "    <tr>\n",
       "      <th>Period</th>\n",
       "      <th></th>\n",
       "      <th></th>\n",
       "      <th></th>\n",
       "      <th></th>\n",
       "    </tr>\n",
       "  </thead>\n",
       "  <tbody>\n",
       "    <tr>\n",
       "      <th>Overall</th>\n",
       "      <td>1405</td>\n",
       "      <td>1600</td>\n",
       "      <td>180</td>\n",
       "      <td>138440</td>\n",
       "    </tr>\n",
       "    <tr>\n",
       "      <th>2016-04</th>\n",
       "      <td>8</td>\n",
       "      <td>17546</td>\n",
       "      <td>16861</td>\n",
       "      <td>27497</td>\n",
       "    </tr>\n",
       "    <tr>\n",
       "      <th>2019-04</th>\n",
       "      <td>508</td>\n",
       "      <td>1550</td>\n",
       "      <td>95</td>\n",
       "      <td>138440</td>\n",
       "    </tr>\n",
       "  </tbody>\n",
       "</table>\n",
       "</div>"
      ],
      "text/plain": [
       "         Count   Mean  Median     Max\n",
       "Period                               \n",
       "Overall   1405   1600     180  138440\n",
       "2016-04      8  17546   16861   27497\n",
       "2019-04    508   1550      95  138440"
      ]
     },
     "execution_count": 46,
     "metadata": {},
     "output_type": "execute_result"
    }
   ],
   "source": [
    "df"
   ]
  },
  {
   "cell_type": "markdown",
   "metadata": {},
   "source": [
    "## Pandas Computations"
   ]
  },
  {
   "cell_type": "code",
   "execution_count": 34,
   "metadata": {},
   "outputs": [
    {
     "data": {
      "text/plain": [
       "1405"
      ]
     },
     "execution_count": 34,
     "metadata": {},
     "output_type": "execute_result"
    }
   ],
   "source": [
    "# total payments in the dataset\n",
    "clean_df.MCC_IMPORTE.count()"
   ]
  },
  {
   "cell_type": "code",
   "execution_count": 35,
   "metadata": {},
   "outputs": [
    {
     "data": {
      "text/plain": [
       "1600.8557437722445"
      ]
     },
     "execution_count": 35,
     "metadata": {},
     "output_type": "execute_result"
    }
   ],
   "source": [
    "# Average overall \n",
    "clean_df.MCC_IMPORTE.mean()"
   ]
  },
  {
   "cell_type": "code",
   "execution_count": 36,
   "metadata": {},
   "outputs": [
    {
     "data": {
      "text/plain": [
       "138440.4"
      ]
     },
     "execution_count": 36,
     "metadata": {},
     "output_type": "execute_result"
    }
   ],
   "source": [
    "# Max value overall\n",
    "clean_df.MCC_IMPORTE.max()"
   ]
  },
  {
   "cell_type": "code",
   "execution_count": 37,
   "metadata": {},
   "outputs": [
    {
     "data": {
      "text/plain": [
       "180.0"
      ]
     },
     "execution_count": 37,
     "metadata": {},
     "output_type": "execute_result"
    }
   ],
   "source": [
    "# median value overall\n",
    "clean_df.MCC_IMPORTE.median()"
   ]
  },
  {
   "cell_type": "code",
   "execution_count": 38,
   "metadata": {},
   "outputs": [
    {
     "data": {
      "text/plain": [
       "6229.354161071131"
      ]
     },
     "execution_count": 38,
     "metadata": {},
     "output_type": "execute_result"
    }
   ],
   "source": [
    "# standard deviation overall\n",
    "clean_df.MCC_IMPORTE.std()"
   ]
  },
  {
   "cell_type": "markdown",
   "metadata": {},
   "source": [
    "## computations by period"
   ]
  },
  {
   "cell_type": "code",
   "execution_count": 39,
   "metadata": {},
   "outputs": [
    {
     "data": {
      "text/plain": [
       "Period\n",
       "2014-01      6\n",
       "2014-03      4\n",
       "2014-04     14\n",
       "2014-05     68\n",
       "2014-06      2\n",
       "2014-07      4\n",
       "2014-08      4\n",
       "2014-09     21\n",
       "2014-10     10\n",
       "2014-11     10\n",
       "2014-12      7\n",
       "2015-01      4\n",
       "2015-02      4\n",
       "2015-03      4\n",
       "2015-04     13\n",
       "2015-05      6\n",
       "2015-06     10\n",
       "2015-07      6\n",
       "2015-09      4\n",
       "2015-10     35\n",
       "2015-11     14\n",
       "2015-12     19\n",
       "2016-01      6\n",
       "2016-03      2\n",
       "2016-04      8\n",
       "2016-05      3\n",
       "2016-06      2\n",
       "2016-07      3\n",
       "2016-08     20\n",
       "2016-10     36\n",
       "2016-11      5\n",
       "2016-12     32\n",
       "2017-01     20\n",
       "2017-02      4\n",
       "2017-03      6\n",
       "2017-04      4\n",
       "2017-05     21\n",
       "2017-06      3\n",
       "2017-08      6\n",
       "2017-09     46\n",
       "2017-10     49\n",
       "2017-11      8\n",
       "2018-01      2\n",
       "2018-02     41\n",
       "2018-03     18\n",
       "2018-04     11\n",
       "2018-05     48\n",
       "2018-06     11\n",
       "2018-07     20\n",
       "2018-08     12\n",
       "2018-09     26\n",
       "2018-10      8\n",
       "2018-11     26\n",
       "2018-12     18\n",
       "2019-01     12\n",
       "2019-02      3\n",
       "2019-03     80\n",
       "2019-04    508\n",
       "2019-05      8\n",
       "Freq: M, Name: MCC_IMPORTE, dtype: int64"
      ]
     },
     "execution_count": 39,
     "metadata": {},
     "output_type": "execute_result"
    }
   ],
   "source": [
    "period = clean_df.groupby('Period')\n",
    "period.MCC_IMPORTE.count()"
   ]
  },
  {
   "cell_type": "code",
   "execution_count": 40,
   "metadata": {},
   "outputs": [
    {
     "data": {
      "text/plain": [
       "Period\n",
       "2014-01       861.00\n",
       "2014-03       456.75\n",
       "2014-04      1943.40\n",
       "2014-05      2308.04\n",
       "2014-06       605.50\n",
       "2014-07        30.80\n",
       "2014-08       525.00\n",
       "2014-09      1023.80\n",
       "2014-10       452.07\n",
       "2014-11       703.50\n",
       "2014-12       504.19\n",
       "2015-01       261.00\n",
       "2015-02       787.50\n",
       "2015-03      1732.54\n",
       "2015-04      1323.00\n",
       "2015-05       425.25\n",
       "2015-06       519.75\n",
       "2015-07      3267.60\n",
       "2015-09       299.25\n",
       "2015-10       477.75\n",
       "2015-11       525.00\n",
       "2015-12       425.23\n",
       "2016-01       143.37\n",
       "2016-03        61.43\n",
       "2016-04     27497.40\n",
       "2016-05       362.25\n",
       "2016-06        35.66\n",
       "2016-07       360.00\n",
       "2016-08      2835.70\n",
       "2016-10     13371.40\n",
       "2016-11       745.50\n",
       "2016-12       434.66\n",
       "2017-01      2612.40\n",
       "2017-02       212.27\n",
       "2017-03       420.00\n",
       "2017-04        58.80\n",
       "2017-05      3045.70\n",
       "2017-06       476.90\n",
       "2017-08       230.07\n",
       "2017-09     25526.90\n",
       "2017-10     33779.20\n",
       "2017-11       243.66\n",
       "2018-01        74.42\n",
       "2018-02      9643.20\n",
       "2018-03     31110.80\n",
       "2018-04       297.91\n",
       "2018-05      1111.77\n",
       "2018-06     16342.20\n",
       "2018-07      1011.12\n",
       "2018-08       151.20\n",
       "2018-09       645.00\n",
       "2018-10       519.75\n",
       "2018-11     30587.90\n",
       "2018-12      2169.65\n",
       "2019-01       158.52\n",
       "2019-02       476.90\n",
       "2019-03     32664.80\n",
       "2019-04    138440.40\n",
       "2019-05       123.77\n",
       "Freq: M, Name: MCC_IMPORTE, dtype: float64"
      ]
     },
     "execution_count": 40,
     "metadata": {},
     "output_type": "execute_result"
    }
   ],
   "source": [
    "# Maximum payments by month\n",
    "# Here we see that a $138,440.40 payment was made in April 2019. The median payment for that month was $95.43 pesos.\n",
    "\n",
    "period.MCC_IMPORTE.max()"
   ]
  },
  {
   "cell_type": "code",
   "execution_count": 41,
   "metadata": {},
   "outputs": [
    {
     "data": {
      "text/plain": [
       "Period\n",
       "2014-01      684.845\n",
       "2014-03       27.300\n",
       "2014-04      414.775\n",
       "2014-05      273.000\n",
       "2014-06      327.400\n",
       "2014-07       12.075\n",
       "2014-08      221.265\n",
       "2014-09      189.050\n",
       "2014-10       19.315\n",
       "2014-11      120.660\n",
       "2014-12        2.540\n",
       "2015-01       11.640\n",
       "2015-02      207.640\n",
       "2015-03      261.735\n",
       "2015-04      165.740\n",
       "2015-05       93.380\n",
       "2015-06      167.265\n",
       "2015-07      273.115\n",
       "2015-09       81.860\n",
       "2015-10       43.640\n",
       "2015-11       62.450\n",
       "2015-12       40.680\n",
       "2016-01       60.165\n",
       "2016-03       51.540\n",
       "2016-04    16861.250\n",
       "2016-05      240.530\n",
       "2016-06       31.450\n",
       "2016-07      215.640\n",
       "2016-08     1576.575\n",
       "2016-10     4156.425\n",
       "2016-11      337.010\n",
       "2016-12       73.730\n",
       "2017-01       49.205\n",
       "2017-02      211.635\n",
       "2017-03      333.360\n",
       "2017-04       42.230\n",
       "2017-05     1220.800\n",
       "2017-06      444.480\n",
       "2017-08      115.200\n",
       "2017-09      367.500\n",
       "2017-10      114.010\n",
       "2017-11       14.080\n",
       "2018-01       64.650\n",
       "2018-02     1821.400\n",
       "2018-03     2607.150\n",
       "2018-04      216.730\n",
       "2018-05       26.985\n",
       "2018-06    10174.150\n",
       "2018-07      310.040\n",
       "2018-08       70.865\n",
       "2018-09       87.590\n",
       "2018-10      322.395\n",
       "2018-11      485.515\n",
       "2018-12     1471.225\n",
       "2019-01       87.480\n",
       "2019-02      444.480\n",
       "2019-03      122.335\n",
       "2019-04       95.425\n",
       "2019-05       90.845\n",
       "Freq: M, Name: MCC_IMPORTE, dtype: float64"
      ]
     },
     "execution_count": 41,
     "metadata": {},
     "output_type": "execute_result"
    }
   ],
   "source": [
    "period.MCC_IMPORTE.median()"
   ]
  },
  {
   "cell_type": "code",
   "execution_count": 42,
   "metadata": {},
   "outputs": [
    {
     "data": {
      "text/plain": [
       "Period\n",
       "2014-01      542.440000\n",
       "2014-03      128.027500\n",
       "2014-04      433.195714\n",
       "2014-05      395.888235\n",
       "2014-06      327.400000\n",
       "2014-07       14.047500\n",
       "2014-08      250.337500\n",
       "2014-09      208.778571\n",
       "2014-10      114.097000\n",
       "2014-11      196.961000\n",
       "2014-12       79.942857\n",
       "2015-01       71.172500\n",
       "2015-02      321.370000\n",
       "2015-03      565.815000\n",
       "2015-04      249.715385\n",
       "2015-05      157.556667\n",
       "2015-06      239.159000\n",
       "2015-07      869.346667\n",
       "2015-09      116.710000\n",
       "2015-10       77.994286\n",
       "2015-11      161.877143\n",
       "2015-12      107.320526\n",
       "2016-01       70.136667\n",
       "2016-03       51.540000\n",
       "2016-04    17546.900000\n",
       "2016-05      212.780000\n",
       "2016-06       31.450000\n",
       "2016-07      203.313333\n",
       "2016-08     1556.453000\n",
       "2016-10     4968.522222\n",
       "2016-11      412.546000\n",
       "2016-12      115.575000\n",
       "2017-01      536.583000\n",
       "2017-02      205.285000\n",
       "2017-03      301.933333\n",
       "2017-04       43.602500\n",
       "2017-05     1153.350000\n",
       "2017-06      371.006667\n",
       "2017-08      116.365000\n",
       "2017-09     4495.508913\n",
       "2017-10     3454.274082\n",
       "2017-11       45.877500\n",
       "2018-01       64.650000\n",
       "2018-02     2294.471220\n",
       "2018-03     6938.672222\n",
       "2018-04      170.140000\n",
       "2018-05      148.542708\n",
       "2018-06     8378.595455\n",
       "2018-07      334.053000\n",
       "2018-08       80.459167\n",
       "2018-09      167.666538\n",
       "2018-10      326.426250\n",
       "2018-11     5504.970000\n",
       "2018-12     1586.491667\n",
       "2019-01       93.916667\n",
       "2019-02      371.006667\n",
       "2019-03     1352.865375\n",
       "2019-04     1550.813740\n",
       "2019-05       92.555000\n",
       "Freq: M, Name: MCC_IMPORTE, dtype: float64"
      ]
     },
     "execution_count": 42,
     "metadata": {},
     "output_type": "execute_result"
    }
   ],
   "source": [
    "period.MCC_IMPORTE.mean()"
   ]
  },
  {
   "cell_type": "code",
   "execution_count": 43,
   "metadata": {},
   "outputs": [
    {
     "data": {
      "text/plain": [
       "Period\n",
       "2014-01     328.930132\n",
       "2014-03     219.505169\n",
       "2014-04     484.399451\n",
       "2014-05     495.453539\n",
       "2014-06     393.292792\n",
       "2014-07      14.642066\n",
       "2014-08     249.271996\n",
       "2014-09     241.758407\n",
       "2014-10     166.943222\n",
       "2014-11     236.199562\n",
       "2014-12     187.492536\n",
       "2015-01     126.689967\n",
       "2015-02     327.089425\n",
       "2015-03     810.500312\n",
       "2015-04     344.312075\n",
       "2015-05     155.472490\n",
       "2015-06     171.276989\n",
       "2015-07    1277.102632\n",
       "2015-09     138.937820\n",
       "2015-10     101.719638\n",
       "2015-11     163.175419\n",
       "2015-12     149.922260\n",
       "2016-01      53.280094\n",
       "2016-03      13.986572\n",
       "2016-04    6299.215751\n",
       "2016-05     165.103410\n",
       "2016-06       5.953839\n",
       "2016-07     163.199518\n",
       "2016-08     752.221199\n",
       "2016-10    2560.287320\n",
       "2016-11     208.293764\n",
       "2016-12     102.252761\n",
       "2017-01     741.789352\n",
       "2017-02      13.126748\n",
       "2017-03     108.548052\n",
       "2017-04      13.400872\n",
       "2017-05     980.990559\n",
       "2017-06     156.179592\n",
       "2017-08      87.901321\n",
       "2017-09    7119.248611\n",
       "2017-10    6607.240528\n",
       "2017-11      81.270902\n",
       "2018-01      13.816867\n",
       "2018-02    2174.790872\n",
       "2018-03    8252.872070\n",
       "2018-04     107.351961\n",
       "2018-05     263.329192\n",
       "2018-06    5752.369323\n",
       "2018-07     229.653143\n",
       "2018-08      57.417392\n",
       "2018-09     187.792618\n",
       "2018-10     102.210605\n",
       "2018-11    9891.007682\n",
       "2018-12     403.650406\n",
       "2019-01      42.931056\n",
       "2019-02     156.179592\n",
       "2019-03    5433.236778\n",
       "2019-04    8613.902716\n",
       "2019-05      24.933028\n",
       "Freq: M, Name: MCC_IMPORTE, dtype: float64"
      ]
     },
     "execution_count": 43,
     "metadata": {},
     "output_type": "execute_result"
    }
   ],
   "source": [
    "period.MCC_IMPORTE.std()"
   ]
  }
 ],
 "metadata": {
  "kernelspec": {
   "display_name": "Python [conda env:anaconda3]",
   "language": "python",
   "name": "conda-env-anaconda3-py"
  },
  "language_info": {
   "codemirror_mode": {
    "name": "ipython",
    "version": 3
   },
   "file_extension": ".py",
   "mimetype": "text/x-python",
   "name": "python",
   "nbconvert_exporter": "python",
   "pygments_lexer": "ipython3",
   "version": "3.7.1"
  }
 },
 "nbformat": 4,
 "nbformat_minor": 2
}
